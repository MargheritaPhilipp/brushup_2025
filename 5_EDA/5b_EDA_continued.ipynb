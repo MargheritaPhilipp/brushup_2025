{
 "cells": [
  {
   "cell_type": "markdown",
   "metadata": {},
   "source": [
    "## EDA on WB pop data: basic manipulations and outliers \n",
    "\n",
    "Each section links to some of the questions that were tasks in class."
   ]
  },
  {
   "cell_type": "markdown",
   "metadata": {},
   "source": [
    "### Importing packages & data\n",
    "\n",
    "Rremember: relative paths are better for collaboration.\n"
   ]
  },
  {
   "cell_type": "code",
   "execution_count": 41,
   "metadata": {},
   "outputs": [],
   "source": [
    "# import libraries\n",
    "import pandas as pd\n",
    "import os\n",
    "import matplotlib.pyplot as plt \n",
    "import seaborn as sns  # remember to install this in your environment first"
   ]
  },
  {
   "cell_type": "code",
   "execution_count": 42,
   "metadata": {},
   "outputs": [],
   "source": [
    "# import data - get current working directory and its parent\n",
    "cwd = os.getcwd()\n",
    "parent_path = os.path.dirname(cwd)\n",
    "\n",
    "df_og = pd.read_csv(parent_path + '/data/WB_pop_clean.csv')"
   ]
  },
  {
   "cell_type": "markdown",
   "metadata": {},
   "source": [
    "### Distribution and outliers"
   ]
  },
  {
   "cell_type": "markdown",
   "metadata": {},
   "source": [
    "- Are there any outliers?\n",
    "    - Show them in a box plot.\n",
    "    - What could you do with them?\n",
    "- Can you plot a histogram and/ or kernel density for the values in 2023?"
   ]
  },
  {
   "cell_type": "code",
   "execution_count": 43,
   "metadata": {},
   "outputs": [],
   "source": [
    "# it's good practice to make a copy of the data set before you start manipulating it\n",
    "# that way you also don't have to import the data from scratch each time you made an error (e.g. removing a column you end up wanting to keep)\n",
    "\n",
    "df = df_og.copy()"
   ]
  },
  {
   "cell_type": "code",
   "execution_count": null,
   "metadata": {},
   "outputs": [],
   "source": [
    "df.columns"
   ]
  },
  {
   "cell_type": "code",
   "execution_count": null,
   "metadata": {},
   "outputs": [],
   "source": [
    "years_choice = ['1990', '2020', '2024']\n",
    "df.boxplot(column = years_choice, grid = False) # this is native to pandas which uses matplotlib without us having to call it\n",
    "plt.show()"
   ]
  },
  {
   "cell_type": "code",
   "execution_count": null,
   "metadata": {},
   "outputs": [],
   "source": [
    "# we know the \"world\" row is the outlier, which is not a country, so let's remove it\n",
    "# remember: we can just re-run the cell that copies the og data to undo this change)\n",
    "\n",
    "# option 1: only keep other rows\n",
    "df = df[df['Country Name'] != 'World']\n",
    "\n",
    "# option 2: drop specific row\n",
    "#df = df.drop(df.loc[df['Country Name'] == 'World'])\n",
    "\n",
    "# option 3: see the option with ~ below (just search for the tilde with ctr+f)\n",
    "\n",
    "# check that there is one row less:\n",
    "print(df.shape)\n"
   ]
  },
  {
   "cell_type": "code",
   "execution_count": null,
   "metadata": {},
   "outputs": [],
   "source": [
    "# plot again, this time with seaborn, and you can watch India overtake China\n",
    "\n",
    "sns.set_style(\"whitegrid\") \n",
    "\n",
    "columns_to_plot = years_choice\n",
    "  \n",
    "sns.boxplot(data = df[columns_to_plot]) \n",
    "plt.show()"
   ]
  },
  {
   "cell_type": "code",
   "execution_count": null,
   "metadata": {},
   "outputs": [],
   "source": [
    "# play with the bins variable of the histogram\n",
    "df.hist(column=['2023'], bins=20)\n",
    "plt.show()"
   ]
  },
  {
   "cell_type": "code",
   "execution_count": null,
   "metadata": {},
   "outputs": [],
   "source": [
    "# kernel densities also give an idea of the overall distribution\n",
    "\n",
    "df['2023'].plot.density()\n",
    "plt.show()"
   ]
  },
  {
   "cell_type": "markdown",
   "metadata": {},
   "source": [
    "### Population growth over time\n"
   ]
  },
  {
   "cell_type": "markdown",
   "metadata": {},
   "source": [
    "- Which county has seen the greatest population growth from the start to the end of the timeline?\n",
    "    - In absolute terms?\n",
    "    - In relative terms?\n",
    "    - What about the greatest decrease?"
   ]
  },
  {
   "cell_type": "code",
   "execution_count": null,
   "metadata": {},
   "outputs": [],
   "source": [
    "# create a new column that shows the difference between two years of your choice- note that the absolute value would not be helpful\n",
    "\n",
    "year1 = '1990'\n",
    "year2 = '2024'\n",
    "\n",
    "df[f'gwth_{year1}_{year2}_abs'] = df[year2] - df[year1] \n",
    "df[f'gwth_{year1}_{year2}_rel'] = round(df[f'gwth_{year1}_{year2}_abs'] / df[year1], 2)\n",
    "df.head(2)"
   ]
  },
  {
   "cell_type": "code",
   "execution_count": null,
   "metadata": {},
   "outputs": [],
   "source": [
    "# find the highest growth values - you can of course to the equivalent for the smallest (i.e. most negative) values\n",
    "# bonus: can you find the countries with the samlles positive growth?\n",
    "\n",
    "print(f'Greatest absolute growth from {year1} to {year2}: ')\n",
    "print('   - Country: ', df.nlargest(1,f'gwth_{year1}_{year2}_abs')['Country Name'])\n",
    "print('   - Growth: ', df.nlargest(1, f'gwth_{year1}_{year2}_abs')[f'gwth_{year1}_{year2}_abs'])\n",
    "\n",
    "print('\\n') # this prints a line break\n",
    "\n",
    "print(f'Greatest relative growth from {year1} to {year2}: ')\n",
    "print('   - Country: ', df.nlargest(1, f'gwth_{year1}_{year2}_rel')['Country Name'])\n",
    "print('   - Growth: ', df.nlargest(1, f'gwth_{year1}_{year2}_rel')[f'gwth_{year1}_{year2}_rel'])"
   ]
  },
  {
   "cell_type": "markdown",
   "metadata": {},
   "source": [
    "##### Comparing rows (countries)\n"
   ]
  },
  {
   "cell_type": "markdown",
   "metadata": {},
   "source": [
    "Addresses the following questions from class:\n",
    "- Show just the rows for Spain and your country/ countries of origin\n",
    "- Can you create a new row that shows the difference in population over time?\n",
    "- Can you plot this?"
   ]
  },
  {
   "cell_type": "code",
   "execution_count": null,
   "metadata": {},
   "outputs": [],
   "source": [
    "# displaying only selected countries\n",
    "\n",
    "df.loc[( df['Country Name']== 'Germany') | (df['Country Name']== 'United Kingdom') | (df['Country Name']== 'Spain')]"
   ]
  },
  {
   "cell_type": "code",
   "execution_count": null,
   "metadata": {},
   "outputs": [],
   "source": [
    "# slightly neater and more flexible\n",
    "\n",
    "country_choices = ['Germany', 'United Kingdom', 'Spain']\n",
    "\n",
    "df.loc[df['Country Name'].isin(country_choices)].sort_values('2023', ascending=False) # here I am also specifying what to sort by"
   ]
  },
  {
   "cell_type": "markdown",
   "metadata": {},
   "source": [
    "##### Using transpose to compare columns"
   ]
  },
  {
   "cell_type": "code",
   "execution_count": null,
   "metadata": {},
   "outputs": [],
   "source": [
    "# given the original format of the data, the easiest way to comoare values witin a column is transpose the data\n",
    "# to work only with the subset we can store it in a new data frame\n",
    "\n",
    "# country_choices = ['Germany', 'United Kingdom', 'Spain'] # this was already set above\n",
    "\n",
    "df_subset = df.loc[df['Country Name'].isin(country_choices) ]\n",
    "\n",
    "print(df_subset.shape)\n",
    "df_subset"
   ]
  },
  {
   "cell_type": "code",
   "execution_count": null,
   "metadata": {},
   "outputs": [],
   "source": [
    "# this is what tranposing does - note the nice column names thanks to changing the index\n",
    "df_transposed = df_subset.T\n",
    "df_transposed"
   ]
  },
  {
   "cell_type": "code",
   "execution_count": null,
   "metadata": {},
   "outputs": [],
   "source": [
    "# I can drop the repeated information to make it neater\n",
    "\n",
    "to_drop = ['Country Code', 'Series Name', 'Series Code', 'Country Name'] # without this the transpose creates repeated values\n",
    "df_subset2 = df_subset.drop(columns=to_drop)\n",
    "\n",
    "df_transposed = pd.DataFrame(df_subset2.T)\n",
    "df_transposed"
   ]
  },
  {
   "cell_type": "code",
   "execution_count": null,
   "metadata": {},
   "outputs": [],
   "source": [
    "# now finding the differences is easier\n",
    "df_transposed['diff_deu_esp'] = df_transposed['DEU'] - df_transposed['ESP']\n",
    "df_transposed['diff_deu_gbr'] = df_transposed['DEU'] - df_transposed['GBR']\n",
    "df_transposed"
   ]
  },
  {
   "cell_type": "markdown",
   "metadata": {},
   "source": [
    "#### less elegant"
   ]
  },
  {
   "cell_type": "code",
   "execution_count": null,
   "metadata": {},
   "outputs": [],
   "source": [
    "import numpy as np \n",
    "\n",
    "# to take the difference row-wise, I need to select only the columns that contain numbers and are relevant\n",
    "\n",
    "year_cols = ['1990', '2000', '2015', '2016', '2017', '2018', '2019', '2020', '2021', '2022', '2023', '2024']# 2023 data: ['2021', '2002', '2003', '2011', '2012', '2013', '2021', '2022', '2023']\n",
    "\n",
    "df = df.copy() # otherwise you'll get a warning about assinging values that might overwrite existing ones\n",
    "\n",
    "# we can also make the index (i.e. the row name) more meaningful by inserting the country code\n",
    "df.set_index(df['Country Code'], inplace=True)\n",
    "\n",
    "# create rows if they don't exist\n",
    "if 'diff_deu_gbr' not in df.index:\n",
    "    df.loc['diff_deu_gbr'] = np.nan # making the default value Nan\n",
    "\n",
    "if 'diff_deu_esp' not in df.index:\n",
    "    df.loc['diff_deu_esp'] = 0      # making the default value 0\n",
    "\n",
    "for col in year_cols:\n",
    "    df.loc['diff_deu_gbr', col] = df.loc['DEU', col] - df.loc['GBR', col]\n",
    "    df.loc['diff_deu_esp', col] = df.loc['DEU', col] - df.loc['ESP', col]\n",
    "\n",
    "df.loc[['DEU', 'GBR', 'ESP'], ['Country Name', 'Series Name'] + year_cols ]\n"
   ]
  },
  {
   "cell_type": "code",
   "execution_count": null,
   "metadata": {},
   "outputs": [],
   "source": [
    "\n",
    "# plotting from rows\n",
    "rows_to_plot = ['diff_deu_gbr', 'diff_deu_esp']\n",
    "numerical_cols =  year_cols #['2001', '2002', '2003', '2011', '2012', '2013', '2021', '2022', '2023']\n",
    "\n",
    "\n",
    "data_to_plot = df.loc[rows_to_plot, numerical_cols]\n",
    "\n",
    "# transpose the data to make the columns the x-axis (years) and the rows the data series\n",
    "data_to_plot = data_to_plot.T\n",
    "\n",
    "# plot the data\n",
    "data_to_plot.plot(kind='line', marker='o', figsize=(10, 6))\n",
    "\n",
    "# specify labels and title\n",
    "plt.title('How much smaller UK and Spain are compared to Germany')\n",
    "plt.xlabel('Year')\n",
    "plt.ylabel('Values')\n",
    "plt.legend(title='Country/Row')\n",
    "\n",
    "# show the plot\n",
    "plt.show()"
   ]
  }
 ],
 "metadata": {
  "kernelspec": {
   "display_name": "brushup-2025",
   "language": "python",
   "name": "python3"
  },
  "language_info": {
   "codemirror_mode": {
    "name": "ipython",
    "version": 3
   },
   "file_extension": ".py",
   "mimetype": "text/x-python",
   "name": "python",
   "nbconvert_exporter": "python",
   "pygments_lexer": "ipython3",
   "version": "3.11.12"
  }
 },
 "nbformat": 4,
 "nbformat_minor": 2
}
