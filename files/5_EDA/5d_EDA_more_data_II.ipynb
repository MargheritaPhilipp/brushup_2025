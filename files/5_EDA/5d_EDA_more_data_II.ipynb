{
 "cells": [
  {
   "cell_type": "markdown",
   "metadata": {},
   "source": [
    "## EDA on more WB data"
   ]
  },
  {
   "cell_type": "markdown",
   "metadata": {},
   "source": [
    "### Import libraries and data"
   ]
  },
  {
   "cell_type": "code",
   "execution_count": 70,
   "metadata": {},
   "outputs": [
    {
     "name": "stdout",
     "output_type": "stream",
     "text": [
      "/Users/margheritaphilipp/Documents/margherita/GitHub/brushup_2025\n"
     ]
    }
   ],
   "source": [
    "import os\n",
    "import pandas as pd\n",
    "import matplotlib.pyplot as plt\n",
    "%matplotlib inline\n",
    "import seaborn as sns\n",
    "\n",
    "cwd = os.getcwd()\n",
    "parent_path = os.path.dirname(cwd)\n",
    "print(parent_path)"
   ]
  },
  {
   "cell_type": "code",
   "execution_count": 71,
   "metadata": {},
   "outputs": [
    {
     "data": {
      "application/vnd.microsoft.datawrangler.viewer.v0+json": {
       "columns": [
        {
         "name": "index",
         "rawType": "int64",
         "type": "integer"
        },
        {
         "name": "isocode",
         "rawType": "object",
         "type": "string"
        },
        {
         "name": "country",
         "rawType": "object",
         "type": "string"
        },
        {
         "name": "year",
         "rawType": "int64",
         "type": "integer"
        },
        {
         "name": "primary_out_school_pct",
         "rawType": "float64",
         "type": "float"
        },
        {
         "name": "gni_pc",
         "rawType": "float64",
         "type": "float"
        },
        {
         "name": "gni",
         "rawType": "float64",
         "type": "float"
        },
        {
         "name": "pop",
         "rawType": "int64",
         "type": "integer"
        },
        {
         "name": "primary_compl_pct",
         "rawType": "float64",
         "type": "float"
        }
       ],
       "ref": "97876142-90e1-4b96-99fd-76de2dc2b963",
       "rows": [
        [
         "243",
         "LVA",
         "Latvia",
         "2015",
         "2.04",
         "14580.0",
         "28824952577.7542",
         "1977527",
         "100.01"
        ],
        [
         "372",
         "STP",
         "Sao Tome and Principe",
         "2015",
         "9.62",
         "1400.0",
         "279487133.939486",
         "200291",
         "88.82"
        ],
        [
         "438",
         "TGO",
         "Togo",
         "2020",
         "1.13",
         "860.0",
         "7483901397.21099",
         "8669720",
         "87.49"
        ],
        [
         "181",
         "HKG",
         "Hong Kong SAR, China",
         "2015",
         "0.88",
         "41180.0",
         "300224116312.602",
         "7291300",
         "95.35"
        ]
       ],
       "shape": {
        "columns": 8,
        "rows": 4
       }
      },
      "text/html": [
       "<div>\n",
       "<style scoped>\n",
       "    .dataframe tbody tr th:only-of-type {\n",
       "        vertical-align: middle;\n",
       "    }\n",
       "\n",
       "    .dataframe tbody tr th {\n",
       "        vertical-align: top;\n",
       "    }\n",
       "\n",
       "    .dataframe thead th {\n",
       "        text-align: right;\n",
       "    }\n",
       "</style>\n",
       "<table border=\"1\" class=\"dataframe\">\n",
       "  <thead>\n",
       "    <tr style=\"text-align: right;\">\n",
       "      <th></th>\n",
       "      <th>isocode</th>\n",
       "      <th>country</th>\n",
       "      <th>year</th>\n",
       "      <th>primary_out_school_pct</th>\n",
       "      <th>gni_pc</th>\n",
       "      <th>gni</th>\n",
       "      <th>pop</th>\n",
       "      <th>primary_compl_pct</th>\n",
       "    </tr>\n",
       "  </thead>\n",
       "  <tbody>\n",
       "    <tr>\n",
       "      <th>243</th>\n",
       "      <td>LVA</td>\n",
       "      <td>Latvia</td>\n",
       "      <td>2015</td>\n",
       "      <td>2.04</td>\n",
       "      <td>14580.0</td>\n",
       "      <td>2.882495e+10</td>\n",
       "      <td>1977527</td>\n",
       "      <td>100.01</td>\n",
       "    </tr>\n",
       "    <tr>\n",
       "      <th>372</th>\n",
       "      <td>STP</td>\n",
       "      <td>Sao Tome and Principe</td>\n",
       "      <td>2015</td>\n",
       "      <td>9.62</td>\n",
       "      <td>1400.0</td>\n",
       "      <td>2.794871e+08</td>\n",
       "      <td>200291</td>\n",
       "      <td>88.82</td>\n",
       "    </tr>\n",
       "    <tr>\n",
       "      <th>438</th>\n",
       "      <td>TGO</td>\n",
       "      <td>Togo</td>\n",
       "      <td>2020</td>\n",
       "      <td>1.13</td>\n",
       "      <td>860.0</td>\n",
       "      <td>7.483901e+09</td>\n",
       "      <td>8669720</td>\n",
       "      <td>87.49</td>\n",
       "    </tr>\n",
       "    <tr>\n",
       "      <th>181</th>\n",
       "      <td>HKG</td>\n",
       "      <td>Hong Kong SAR, China</td>\n",
       "      <td>2015</td>\n",
       "      <td>0.88</td>\n",
       "      <td>41180.0</td>\n",
       "      <td>3.002241e+11</td>\n",
       "      <td>7291300</td>\n",
       "      <td>95.35</td>\n",
       "    </tr>\n",
       "  </tbody>\n",
       "</table>\n",
       "</div>"
      ],
      "text/plain": [
       "    isocode                country  year  primary_out_school_pct   gni_pc  \\\n",
       "243     LVA                 Latvia  2015                    2.04  14580.0   \n",
       "372     STP  Sao Tome and Principe  2015                    9.62   1400.0   \n",
       "438     TGO                   Togo  2020                    1.13    860.0   \n",
       "181     HKG   Hong Kong SAR, China  2015                    0.88  41180.0   \n",
       "\n",
       "              gni      pop  primary_compl_pct  \n",
       "243  2.882495e+10  1977527             100.01  \n",
       "372  2.794871e+08   200291              88.82  \n",
       "438  7.483901e+09  8669720              87.49  \n",
       "181  3.002241e+11  7291300              95.35  "
      ]
     },
     "execution_count": 71,
     "metadata": {},
     "output_type": "execute_result"
    }
   ],
   "source": [
    "# import result from first cleaning notebook\n",
    "df = pd.read_csv(parent_path + \"/data/WB_reshaped_nomissing.csv\")\n",
    "\n",
    "df.sample(4)"
   ]
  },
  {
   "cell_type": "code",
   "execution_count": 72,
   "metadata": {},
   "outputs": [
    {
     "name": "stdout",
     "output_type": "stream",
     "text": [
      "<class 'pandas.core.frame.DataFrame'>\n",
      "RangeIndex: 488 entries, 0 to 487\n",
      "Data columns (total 8 columns):\n",
      " #   Column                  Non-Null Count  Dtype  \n",
      "---  ------                  --------------  -----  \n",
      " 0   isocode                 488 non-null    object \n",
      " 1   country                 488 non-null    object \n",
      " 2   year                    488 non-null    int64  \n",
      " 3   primary_out_school_pct  488 non-null    float64\n",
      " 4   gni_pc                  488 non-null    float64\n",
      " 5   gni                     488 non-null    float64\n",
      " 6   pop                     488 non-null    int64  \n",
      " 7   primary_compl_pct       488 non-null    float64\n",
      "dtypes: float64(4), int64(2), object(2)\n",
      "memory usage: 30.6+ KB\n"
     ]
    }
   ],
   "source": [
    "# check that the data types are still as expected\n",
    "df.info()"
   ]
  },
  {
   "cell_type": "code",
   "execution_count": 73,
   "metadata": {},
   "outputs": [
    {
     "data": {
      "application/vnd.microsoft.datawrangler.viewer.v0+json": {
       "columns": [
        {
         "name": "index",
         "rawType": "object",
         "type": "string"
        },
        {
         "name": "year",
         "rawType": "float64",
         "type": "float"
        },
        {
         "name": "primary_out_school_pct",
         "rawType": "float64",
         "type": "float"
        },
        {
         "name": "gni_pc",
         "rawType": "float64",
         "type": "float"
        },
        {
         "name": "gni",
         "rawType": "float64",
         "type": "float"
        },
        {
         "name": "pop",
         "rawType": "float64",
         "type": "float"
        },
        {
         "name": "primary_compl_pct",
         "rawType": "float64",
         "type": "float"
        }
       ],
       "ref": "90338094-0ab5-4641-bcf0-bab2b2471ca1",
       "rows": [
        [
         "count",
         "488.0",
         "488.0",
         "488.0",
         "488.0",
         "488.0",
         "488.0"
        ],
        [
         "mean",
         "2012.6004098360656",
         "9.176434426229509",
         "13909.38524590164",
         "303438030845.6245",
         "27264804.014344264",
         "87.88159836065574"
        ],
        [
         "std",
         "10.64193015621505",
         "13.178682213280966",
         "19240.328081210988",
         "1590618824997.886",
         "100360106.51322788",
         "19.01001077209024"
        ],
        [
         "min",
         "1990.0",
         "0.0",
         "120.0",
         "61921107.8251509",
         "9992.0",
         "15.82"
        ],
        [
         "25%",
         "2000.0",
         "1.2325",
         "1705.0",
         "6206171161.88049",
         "1944139.25",
         "84.0575"
        ],
        [
         "50%",
         "2015.0",
         "3.955",
         "5290.0",
         "30512709937.7858",
         "7010940.0",
         "95.55000000000001"
        ],
        [
         "75%",
         "2020.0",
         "11.2075",
         "17940.0",
         "174652409077.7255",
         "21156744.25",
         "99.475"
        ],
        [
         "max",
         "2022.0",
         "77.75",
         "95600.0",
         "25740799806442.5",
         "1402617695.0",
         "118.84"
        ]
       ],
       "shape": {
        "columns": 6,
        "rows": 8
       }
      },
      "text/html": [
       "<div>\n",
       "<style scoped>\n",
       "    .dataframe tbody tr th:only-of-type {\n",
       "        vertical-align: middle;\n",
       "    }\n",
       "\n",
       "    .dataframe tbody tr th {\n",
       "        vertical-align: top;\n",
       "    }\n",
       "\n",
       "    .dataframe thead th {\n",
       "        text-align: right;\n",
       "    }\n",
       "</style>\n",
       "<table border=\"1\" class=\"dataframe\">\n",
       "  <thead>\n",
       "    <tr style=\"text-align: right;\">\n",
       "      <th></th>\n",
       "      <th>year</th>\n",
       "      <th>primary_out_school_pct</th>\n",
       "      <th>gni_pc</th>\n",
       "      <th>gni</th>\n",
       "      <th>pop</th>\n",
       "      <th>primary_compl_pct</th>\n",
       "    </tr>\n",
       "  </thead>\n",
       "  <tbody>\n",
       "    <tr>\n",
       "      <th>count</th>\n",
       "      <td>488.00000</td>\n",
       "      <td>488.000000</td>\n",
       "      <td>488.000000</td>\n",
       "      <td>4.880000e+02</td>\n",
       "      <td>4.880000e+02</td>\n",
       "      <td>488.000000</td>\n",
       "    </tr>\n",
       "    <tr>\n",
       "      <th>mean</th>\n",
       "      <td>2012.60041</td>\n",
       "      <td>9.176434</td>\n",
       "      <td>13909.385246</td>\n",
       "      <td>3.034380e+11</td>\n",
       "      <td>2.726480e+07</td>\n",
       "      <td>87.881598</td>\n",
       "    </tr>\n",
       "    <tr>\n",
       "      <th>std</th>\n",
       "      <td>10.64193</td>\n",
       "      <td>13.178682</td>\n",
       "      <td>19240.328081</td>\n",
       "      <td>1.590619e+12</td>\n",
       "      <td>1.003601e+08</td>\n",
       "      <td>19.010011</td>\n",
       "    </tr>\n",
       "    <tr>\n",
       "      <th>min</th>\n",
       "      <td>1990.00000</td>\n",
       "      <td>0.000000</td>\n",
       "      <td>120.000000</td>\n",
       "      <td>6.192111e+07</td>\n",
       "      <td>9.992000e+03</td>\n",
       "      <td>15.820000</td>\n",
       "    </tr>\n",
       "    <tr>\n",
       "      <th>25%</th>\n",
       "      <td>2000.00000</td>\n",
       "      <td>1.232500</td>\n",
       "      <td>1705.000000</td>\n",
       "      <td>6.206171e+09</td>\n",
       "      <td>1.944139e+06</td>\n",
       "      <td>84.057500</td>\n",
       "    </tr>\n",
       "    <tr>\n",
       "      <th>50%</th>\n",
       "      <td>2015.00000</td>\n",
       "      <td>3.955000</td>\n",
       "      <td>5290.000000</td>\n",
       "      <td>3.051271e+10</td>\n",
       "      <td>7.010940e+06</td>\n",
       "      <td>95.550000</td>\n",
       "    </tr>\n",
       "    <tr>\n",
       "      <th>75%</th>\n",
       "      <td>2020.00000</td>\n",
       "      <td>11.207500</td>\n",
       "      <td>17940.000000</td>\n",
       "      <td>1.746524e+11</td>\n",
       "      <td>2.115674e+07</td>\n",
       "      <td>99.475000</td>\n",
       "    </tr>\n",
       "    <tr>\n",
       "      <th>max</th>\n",
       "      <td>2022.00000</td>\n",
       "      <td>77.750000</td>\n",
       "      <td>95600.000000</td>\n",
       "      <td>2.574080e+13</td>\n",
       "      <td>1.402618e+09</td>\n",
       "      <td>118.840000</td>\n",
       "    </tr>\n",
       "  </tbody>\n",
       "</table>\n",
       "</div>"
      ],
      "text/plain": [
       "             year  primary_out_school_pct        gni_pc           gni  \\\n",
       "count   488.00000              488.000000    488.000000  4.880000e+02   \n",
       "mean   2012.60041                9.176434  13909.385246  3.034380e+11   \n",
       "std      10.64193               13.178682  19240.328081  1.590619e+12   \n",
       "min    1990.00000                0.000000    120.000000  6.192111e+07   \n",
       "25%    2000.00000                1.232500   1705.000000  6.206171e+09   \n",
       "50%    2015.00000                3.955000   5290.000000  3.051271e+10   \n",
       "75%    2020.00000               11.207500  17940.000000  1.746524e+11   \n",
       "max    2022.00000               77.750000  95600.000000  2.574080e+13   \n",
       "\n",
       "                pop  primary_compl_pct  \n",
       "count  4.880000e+02         488.000000  \n",
       "mean   2.726480e+07          87.881598  \n",
       "std    1.003601e+08          19.010011  \n",
       "min    9.992000e+03          15.820000  \n",
       "25%    1.944139e+06          84.057500  \n",
       "50%    7.010940e+06          95.550000  \n",
       "75%    2.115674e+07          99.475000  \n",
       "max    1.402618e+09         118.840000  "
      ]
     },
     "execution_count": 73,
     "metadata": {},
     "output_type": "execute_result"
    }
   ],
   "source": [
    "# check if numerical columns mane sense\n",
    "df.describe()"
   ]
  },
  {
   "cell_type": "code",
   "execution_count": 74,
   "metadata": {},
   "outputs": [
    {
     "data": {
      "application/vnd.microsoft.datawrangler.viewer.v0+json": {
       "columns": [
        {
         "name": "index",
         "rawType": "int64",
         "type": "integer"
        },
        {
         "name": "primary_compl_pct",
         "rawType": "float64",
         "type": "float"
        }
       ],
       "ref": "2bb7ea23-8865-4596-8c0a-4374ef794818",
       "rows": [
        [
         "440",
         "118.84"
        ],
        [
         "280",
         "113.49"
        ],
        [
         "117",
         "112.71"
        ],
        [
         "149",
         "111.73"
        ],
        [
         "161",
         "111.29"
        ],
        [
         "314",
         "110.82"
        ],
        [
         "407",
         "108.24"
        ],
        [
         "254",
         "108.12"
        ],
        [
         "453",
         "107.8"
        ],
        [
         "159",
         "107.13"
        ]
       ],
       "shape": {
        "columns": 1,
        "rows": 10
       }
      },
      "text/plain": [
       "440    118.84\n",
       "280    113.49\n",
       "117    112.71\n",
       "149    111.73\n",
       "161    111.29\n",
       "314    110.82\n",
       "407    108.24\n",
       "254    108.12\n",
       "453    107.80\n",
       "159    107.13\n",
       "Name: primary_compl_pct, dtype: float64"
      ]
     },
     "execution_count": 74,
     "metadata": {},
     "output_type": "execute_result"
    }
   ],
   "source": [
    "# this would warrant looking at the metadata and additional documentation before proceeding (can you check the relevant file I shared?)\n",
    "df.primary_compl_pct.nlargest(10)"
   ]
  },
  {
   "cell_type": "markdown",
   "metadata": {},
   "source": [
    "### Groupby reminder"
   ]
  },
  {
   "cell_type": "markdown",
   "metadata": {},
   "source": [
    "Let's get a feel for changes per country"
   ]
  },
  {
   "cell_type": "code",
   "execution_count": 92,
   "metadata": {},
   "outputs": [
    {
     "data": {
      "application/vnd.microsoft.datawrangler.viewer.v0+json": {
       "columns": [
        {
         "name": "country",
         "rawType": "object",
         "type": "string"
        },
        {
         "name": "min",
         "rawType": "float64",
         "type": "float"
        },
        {
         "name": "mean",
         "rawType": "float64",
         "type": "float"
        },
        {
         "name": "max",
         "rawType": "float64",
         "type": "float"
        }
       ],
       "ref": "70c40224-2426-4b6f-bda5-11fc0de58c22",
       "rows": [
        [
         "Albania",
         "4410.0",
         "5516.666666666667",
         "6820.0"
        ],
        [
         "Algeria",
         "1600.0",
         "3568.0",
         "5390.0"
        ],
        [
         "Andorra",
         "42450.0",
         "42450.0",
         "42450.0"
        ],
        [
         "Antigua and Barbuda",
         "14550.0",
         "14550.0",
         "14550.0"
        ],
        [
         "Argentina",
         "7400.0",
         "10190.0",
         "12500.0"
        ],
        [
         "Armenia",
         "3910.0",
         "4606.666666666667",
         "5680.0"
        ],
        [
         "Aruba",
         "20060.0",
         "20060.0",
         "20060.0"
        ],
        [
         "Austria",
         "47190.0",
         "50836.666666666664",
         "56320.0"
        ],
        [
         "Azerbaijan",
         "630.0",
         "4347.5",
         "6610.0"
        ],
        [
         "Bahrain",
         "12500.0",
         "21480.0",
         "28300.0"
        ],
        [
         "Barbados",
         "11170.0",
         "17023.333333333332",
         "22290.0"
        ],
        [
         "Belarus",
         "6410.0",
         "6786.666666666667",
         "7210.0"
        ],
        [
         "Belize",
         "4480.0",
         "5537.5",
         "6710.0"
        ],
        [
         "Benin",
         "350.0",
         "966.6666666666666",
         "1360.0"
        ],
        [
         "Bhutan",
         "710.0",
         "2522.5",
         "3600.0"
        ],
        [
         "Bolivia",
         "2920.0",
         "3200.0",
         "3530.0"
        ],
        [
         "Bosnia and Herzegovina",
         "5140.0",
         "6336.666666666667",
         "7710.0"
        ],
        [
         "Botswana",
         "2680.0",
         "4680.0",
         "8250.0"
        ],
        [
         "Brunei Darussalam",
         "30810.0",
         "34495.0",
         "38180.0"
        ],
        [
         "Bulgaria",
         "1660.0",
         "8120.0",
         "13100.0"
        ],
        [
         "Burkina Faso",
         "260.0",
         "645.0",
         "860.0"
        ],
        [
         "Burundi",
         "130.0",
         "193.33333333333334",
         "240.0"
        ],
        [
         "Cabo Verde",
         "810.0",
         "2317.5",
         "3620.0"
        ],
        [
         "Cambodia",
         "1430.0",
         "1916.6666666666667",
         "2270.0"
        ],
        [
         "Cameroon",
         "1000.0",
         "1432.5",
         "1660.0"
        ],
        [
         "Canada",
         "22740.0",
         "22740.0",
         "22740.0"
        ],
        [
         "Cayman Islands",
         "61780.0",
         "61780.0",
         "61780.0"
        ],
        [
         "Central African Republic",
         "470.0",
         "470.0",
         "470.0"
        ],
        [
         "Chad",
         "180.0",
         "655.0",
         "1130.0"
        ],
        [
         "Chile",
         "12960.0",
         "14160.0",
         "15440.0"
        ],
        [
         "China",
         "330.0",
         "330.0",
         "330.0"
        ],
        [
         "Colombia",
         "2370.0",
         "5550.0",
         "7420.0"
        ],
        [
         "Costa Rica",
         "1740.0",
         "9355.0",
         "13210.0"
        ],
        [
         "Cote d'Ivoire",
         "610.0",
         "1762.5",
         "2440.0"
        ],
        [
         "Croatia",
         "13580.0",
         "16023.333333333334",
         "19370.0"
        ],
        [
         "Cuba",
         "2620.0",
         "4176.666666666667",
         "7270.0"
        ],
        [
         "Cyprus",
         "14180.0",
         "25142.5",
         "33020.0"
        ],
        [
         "Czechia",
         "18340.0",
         "22580.0",
         "27210.0"
        ],
        [
         "Denmark",
         "24380.0",
         "50664.0",
         "73320.0"
        ],
        [
         "Dominica",
         "4290.0",
         "7180.0",
         "9740.0"
        ],
        [
         "Dominican Republic",
         "2650.0",
         "6337.5",
         "9150.0"
        ],
        [
         "Ecuador",
         "1500.0",
         "4857.5",
         "6550.0"
        ],
        [
         "Egypt, Arab Rep.",
         "1330.0",
         "2145.0",
         "2960.0"
        ],
        [
         "El Salvador",
         "1890.0",
         "3480.0",
         "4710.0"
        ],
        [
         "Equatorial Guinea",
         "660.0",
         "4690.0",
         "8720.0"
        ],
        [
         "Eritrea",
         "310.0",
         "310.0",
         "310.0"
        ],
        [
         "Estonia",
         "4170.0",
         "18575.0",
         "27650.0"
        ],
        [
         "Eswatini",
         "1220.0",
         "2380.0",
         "3540.0"
        ],
        [
         "Ethiopia",
         "120.0",
         "570.0",
         "1010.0"
        ],
        [
         "Fiji",
         "2150.0",
         "4272.5",
         "5440.0"
        ]
       ],
       "shape": {
        "columns": 3,
        "rows": 169
       }
      },
      "text/html": [
       "<div>\n",
       "<style scoped>\n",
       "    .dataframe tbody tr th:only-of-type {\n",
       "        vertical-align: middle;\n",
       "    }\n",
       "\n",
       "    .dataframe tbody tr th {\n",
       "        vertical-align: top;\n",
       "    }\n",
       "\n",
       "    .dataframe thead th {\n",
       "        text-align: right;\n",
       "    }\n",
       "</style>\n",
       "<table border=\"1\" class=\"dataframe\">\n",
       "  <thead>\n",
       "    <tr style=\"text-align: right;\">\n",
       "      <th></th>\n",
       "      <th>min</th>\n",
       "      <th>mean</th>\n",
       "      <th>max</th>\n",
       "    </tr>\n",
       "    <tr>\n",
       "      <th>country</th>\n",
       "      <th></th>\n",
       "      <th></th>\n",
       "      <th></th>\n",
       "    </tr>\n",
       "  </thead>\n",
       "  <tbody>\n",
       "    <tr>\n",
       "      <th>Albania</th>\n",
       "      <td>4410.0</td>\n",
       "      <td>5516.666667</td>\n",
       "      <td>6820.0</td>\n",
       "    </tr>\n",
       "    <tr>\n",
       "      <th>Algeria</th>\n",
       "      <td>1600.0</td>\n",
       "      <td>3568.000000</td>\n",
       "      <td>5390.0</td>\n",
       "    </tr>\n",
       "    <tr>\n",
       "      <th>Andorra</th>\n",
       "      <td>42450.0</td>\n",
       "      <td>42450.000000</td>\n",
       "      <td>42450.0</td>\n",
       "    </tr>\n",
       "    <tr>\n",
       "      <th>Antigua and Barbuda</th>\n",
       "      <td>14550.0</td>\n",
       "      <td>14550.000000</td>\n",
       "      <td>14550.0</td>\n",
       "    </tr>\n",
       "    <tr>\n",
       "      <th>Argentina</th>\n",
       "      <td>7400.0</td>\n",
       "      <td>10190.000000</td>\n",
       "      <td>12500.0</td>\n",
       "    </tr>\n",
       "    <tr>\n",
       "      <th>...</th>\n",
       "      <td>...</td>\n",
       "      <td>...</td>\n",
       "      <td>...</td>\n",
       "    </tr>\n",
       "    <tr>\n",
       "      <th>Venezuela, RB</th>\n",
       "      <td>4070.0</td>\n",
       "      <td>4070.000000</td>\n",
       "      <td>4070.0</td>\n",
       "    </tr>\n",
       "    <tr>\n",
       "      <th>Viet Nam</th>\n",
       "      <td>390.0</td>\n",
       "      <td>1425.000000</td>\n",
       "      <td>2460.0</td>\n",
       "    </tr>\n",
       "    <tr>\n",
       "      <th>West Bank and Gaza</th>\n",
       "      <td>1550.0</td>\n",
       "      <td>3410.000000</td>\n",
       "      <td>4720.0</td>\n",
       "    </tr>\n",
       "    <tr>\n",
       "      <th>Zambia</th>\n",
       "      <td>350.0</td>\n",
       "      <td>350.000000</td>\n",
       "      <td>350.0</td>\n",
       "    </tr>\n",
       "    <tr>\n",
       "      <th>Zimbabwe</th>\n",
       "      <td>1330.0</td>\n",
       "      <td>1660.000000</td>\n",
       "      <td>1960.0</td>\n",
       "    </tr>\n",
       "  </tbody>\n",
       "</table>\n",
       "<p>169 rows × 3 columns</p>\n",
       "</div>"
      ],
      "text/plain": [
       "                         min          mean      max\n",
       "country                                            \n",
       "Albania               4410.0   5516.666667   6820.0\n",
       "Algeria               1600.0   3568.000000   5390.0\n",
       "Andorra              42450.0  42450.000000  42450.0\n",
       "Antigua and Barbuda  14550.0  14550.000000  14550.0\n",
       "Argentina             7400.0  10190.000000  12500.0\n",
       "...                      ...           ...      ...\n",
       "Venezuela, RB         4070.0   4070.000000   4070.0\n",
       "Viet Nam               390.0   1425.000000   2460.0\n",
       "West Bank and Gaza    1550.0   3410.000000   4720.0\n",
       "Zambia                 350.0    350.000000    350.0\n",
       "Zimbabwe              1330.0   1660.000000   1960.0\n",
       "\n",
       "[169 rows x 3 columns]"
      ]
     },
     "execution_count": 92,
     "metadata": {},
     "output_type": "execute_result"
    }
   ],
   "source": [
    "# in order to aggregate like this, the values need to already be numerical\n",
    "\n",
    "df_gb = df.groupby(['country'])['gni_pc'].agg(['min', 'mean', 'max'])\n",
    "df_gb"
   ]
  },
  {
   "cell_type": "code",
   "execution_count": 102,
   "metadata": {},
   "outputs": [],
   "source": [
    "# what is different compared to the above? could you make it more efficient?\n",
    "df_gb_2 = df.groupby(['country']).agg({\n",
    "    'gni_pc': ['min', 'mean', 'max'],\n",
    "    'gni': ['min', 'mean', 'max'],\n",
    "    'primary_out_school_pct': ['min', 'mean', 'max'],\n",
    "    'pop': ['min', 'mean', 'max'],\n",
    "    }\n",
    "    )"
   ]
  },
  {
   "cell_type": "code",
   "execution_count": 99,
   "metadata": {},
   "outputs": [
    {
     "data": {
      "application/vnd.microsoft.datawrangler.viewer.v0+json": {
       "columns": [
        {
         "name": "country",
         "rawType": "object",
         "type": "string"
        },
        {
         "name": "('gni_pc', 'min')",
         "rawType": "float64",
         "type": "float"
        }
       ],
       "ref": "b1607ddd-4567-480e-bfac-092ffe76f3ea",
       "rows": [
        [
         "Albania",
         "4410.0"
        ],
        [
         "Algeria",
         "1600.0"
        ],
        [
         "Andorra",
         "42450.0"
        ],
        [
         "Antigua and Barbuda",
         "14550.0"
        ],
        [
         "Argentina",
         "7400.0"
        ],
        [
         "Armenia",
         "3910.0"
        ],
        [
         "Aruba",
         "20060.0"
        ],
        [
         "Austria",
         "47190.0"
        ],
        [
         "Azerbaijan",
         "630.0"
        ],
        [
         "Bahrain",
         "12500.0"
        ],
        [
         "Barbados",
         "11170.0"
        ],
        [
         "Belarus",
         "6410.0"
        ],
        [
         "Belize",
         "4480.0"
        ],
        [
         "Benin",
         "350.0"
        ],
        [
         "Bhutan",
         "710.0"
        ],
        [
         "Bolivia",
         "2920.0"
        ],
        [
         "Bosnia and Herzegovina",
         "5140.0"
        ],
        [
         "Botswana",
         "2680.0"
        ],
        [
         "Brunei Darussalam",
         "30810.0"
        ],
        [
         "Bulgaria",
         "1660.0"
        ],
        [
         "Burkina Faso",
         "260.0"
        ],
        [
         "Burundi",
         "130.0"
        ],
        [
         "Cabo Verde",
         "810.0"
        ],
        [
         "Cambodia",
         "1430.0"
        ],
        [
         "Cameroon",
         "1000.0"
        ],
        [
         "Canada",
         "22740.0"
        ],
        [
         "Cayman Islands",
         "61780.0"
        ],
        [
         "Central African Republic",
         "470.0"
        ],
        [
         "Chad",
         "180.0"
        ],
        [
         "Chile",
         "12960.0"
        ],
        [
         "China",
         "330.0"
        ],
        [
         "Colombia",
         "2370.0"
        ],
        [
         "Costa Rica",
         "1740.0"
        ],
        [
         "Cote d'Ivoire",
         "610.0"
        ],
        [
         "Croatia",
         "13580.0"
        ],
        [
         "Cuba",
         "2620.0"
        ],
        [
         "Cyprus",
         "14180.0"
        ],
        [
         "Czechia",
         "18340.0"
        ],
        [
         "Denmark",
         "24380.0"
        ],
        [
         "Dominica",
         "4290.0"
        ],
        [
         "Dominican Republic",
         "2650.0"
        ],
        [
         "Ecuador",
         "1500.0"
        ],
        [
         "Egypt, Arab Rep.",
         "1330.0"
        ],
        [
         "El Salvador",
         "1890.0"
        ],
        [
         "Equatorial Guinea",
         "660.0"
        ],
        [
         "Eritrea",
         "310.0"
        ],
        [
         "Estonia",
         "4170.0"
        ],
        [
         "Eswatini",
         "1220.0"
        ],
        [
         "Ethiopia",
         "120.0"
        ],
        [
         "Fiji",
         "2150.0"
        ]
       ],
       "shape": {
        "columns": 1,
        "rows": 169
       }
      },
      "text/plain": [
       "country\n",
       "Albania                 4410.0\n",
       "Algeria                 1600.0\n",
       "Andorra                42450.0\n",
       "Antigua and Barbuda    14550.0\n",
       "Argentina               7400.0\n",
       "                        ...   \n",
       "Venezuela, RB           4070.0\n",
       "Viet Nam                 390.0\n",
       "West Bank and Gaza      1550.0\n",
       "Zambia                   350.0\n",
       "Zimbabwe                1330.0\n",
       "Name: (gni_pc, min), Length: 169, dtype: float64"
      ]
     },
     "execution_count": 99,
     "metadata": {},
     "output_type": "execute_result"
    }
   ],
   "source": [
    "df_gb_2[('gni_pc', 'min')]"
   ]
  },
  {
   "cell_type": "code",
   "execution_count": 104,
   "metadata": {},
   "outputs": [
    {
     "data": {
      "application/vnd.microsoft.datawrangler.viewer.v0+json": {
       "columns": [
        {
         "name": "country",
         "rawType": "object",
         "type": "string"
        },
        {
         "name": "g_n_i___p_c___m_i_n",
         "rawType": "float64",
         "type": "float"
        },
        {
         "name": "g_n_i___p_c___m_e_a_n",
         "rawType": "float64",
         "type": "float"
        },
        {
         "name": "g_n_i___p_c___m_a_x",
         "rawType": "float64",
         "type": "float"
        },
        {
         "name": "g_n_i___m_i_n",
         "rawType": "float64",
         "type": "float"
        },
        {
         "name": "g_n_i___m_e_a_n",
         "rawType": "float64",
         "type": "float"
        },
        {
         "name": "g_n_i___m_a_x",
         "rawType": "float64",
         "type": "float"
        },
        {
         "name": "p_r_i_m_a_r_y___o_u_t___s_c_h_o_o_l___p_c_t___m_i_n",
         "rawType": "float64",
         "type": "float"
        },
        {
         "name": "p_r_i_m_a_r_y___o_u_t___s_c_h_o_o_l___p_c_t___m_e_a_n",
         "rawType": "float64",
         "type": "float"
        },
        {
         "name": "p_r_i_m_a_r_y___o_u_t___s_c_h_o_o_l___p_c_t___m_a_x",
         "rawType": "float64",
         "type": "float"
        },
        {
         "name": "p_o_p___m_i_n",
         "rawType": "int64",
         "type": "integer"
        },
        {
         "name": "p_o_p___m_e_a_n",
         "rawType": "float64",
         "type": "float"
        },
        {
         "name": "p_o_p___m_a_x",
         "rawType": "int64",
         "type": "integer"
        }
       ],
       "ref": "b3893421-7b66-4c78-9189-b59f2b2e1ad4",
       "rows": [
        [
         "Albania",
         "4410.0",
         "5516.666666666667",
         "6820.0",
         "12715417093.2017",
         "15584421782.212067",
         "18934330930.4404",
         "0.21",
         "4.22",
         "8.48",
         "2777689",
         "2832080.3333333335",
         "2880703"
        ],
        [
         "Algeria",
         "1600.0",
         "3568.0",
         "5390.0",
         "49486762889.1243",
         "140946637711.62656",
         "215806846087.442",
         "0.3",
         "3.9200000000000004",
         "13.05",
         "25375810",
         "37163742.4",
         "45477389"
        ],
        [
         "Andorra",
         "42450.0",
         "42450.0",
         "42450.0",
         "3284843013.4622",
         "3284843013.4622",
         "3284843013.4622",
         "8.92",
         "8.92",
         "8.92",
         "77380",
         "77380.0",
         "77380"
        ],
        [
         "Antigua and Barbuda",
         "14550.0",
         "14550.0",
         "14550.0",
         "1301281332.54",
         "1301281332.54",
         "1301281332.54",
         "0.98",
         "0.98",
         "0.98",
         "89409",
         "89409.0",
         "89409"
        ],
        [
         "Argentina",
         "7400.0",
         "10190.0",
         "12500.0",
         "275544288842.814",
         "441063427306.466",
         "543279945585.475",
         "0.5",
         "0.7375",
         "0.87",
         "37213984",
         "42822716.25",
         "45407904"
        ],
        [
         "Armenia",
         "3910.0",
         "4606.666666666667",
         "5680.0",
         "11738591314.7376",
         "13710833946.1091",
         "16864496346.5623",
         "0.37",
         "4.956666666666667",
         "9.31",
         "2961500",
         "2978433.3333333335",
         "3004600"
        ],
        [
         "Aruba",
         "20060.0",
         "20060.0",
         "20060.0",
         "1817197910.91781",
         "1817197910.91781",
         "1817197910.91781",
         "3.79",
         "3.79",
         "3.79",
         "90588",
         "90588.0",
         "90588"
        ],
        [
         "Austria",
         "47190.0",
         "50836.666666666664",
         "56320.0",
         "407854356302.746",
         "451357735490.98065",
         "509249159702.096",
         "1.17",
         "1.3966666666666665",
         "1.68",
         "8642699",
         "8867138.0",
         "9041851"
        ],
        [
         "Azerbaijan",
         "630.0",
         "4347.5",
         "6610.0",
         "5110511672.62741",
         "42893959828.412506",
         "63771170595.4099",
         "1.16",
         "5.5325",
         "8.49",
         "8048600",
         "9483204.5",
         "10141756"
        ],
        [
         "Bahrain",
         "12500.0",
         "21480.0",
         "28300.0",
         "7966747271.0869",
         "27835662910.656403",
         "43142062339.6955",
         "0.4",
         "6.736666666666667",
         "11.73",
         "637582",
         "1177532.3333333333",
         "1524693"
        ],
        [
         "Barbados",
         "11170.0",
         "17023.333333333332",
         "22290.0",
         "2926246625.7744",
         "4726653253.173604",
         "6292322610.93682",
         "1.14",
         "3.58",
         "6.83",
         "262063",
         "275359.6666666667",
         "282318"
        ],
        [
         "Belarus",
         "6410.0",
         "6786.666666666667",
         "7210.0",
         "60152654567.6468",
         "63492885006.58404",
         "66525038948.5186",
         "4.58",
         "5.586666666666666",
         "6.16",
         "9228071",
         "9356366.333333334",
         "9461076"
        ],
        [
         "Belize",
         "4480.0",
         "5537.5",
         "6710.0",
         "1078077521.8529",
         "1965820848.959485",
         "2701899698.08673",
         "0.38",
         "3.0075",
         "9.54",
         "240799",
         "347669.25",
         "402733"
        ],
        [
         "Benin",
         "350.0",
         "966.6666666666666",
         "1360.0",
         "1825173505.13904",
         "12018872512.58368",
         "18679223216.3568",
         "5.42",
         "26.116666666666664",
         "62.12",
         "5281479",
         "10703716.333333334",
         "13759501"
        ],
        [
         "Bhutan",
         "710.0",
         "2522.5",
         "3600.0",
         "423072895.763584",
         "1901689627.376536",
         "2810795223.13082",
         "4.98",
         "15.18",
         "38.87",
         "596863",
         "722100.25",
         "780914"
        ],
        [
         "Bolivia",
         "2920.0",
         "3200.0",
         "3530.0",
         "32208419842.9135",
         "37369261157.89996",
         "42684909804.2166",
         "3.38",
         "6.513333333333333",
         "11.11",
         "11014705",
         "11636052.666666666",
         "12077154"
        ],
        [
         "Bosnia and Herzegovina",
         "5140.0",
         "6336.666666666667",
         "7710.0",
         "18086544442.6312",
         "21032017154.09247",
         "24693503903.0648",
         "11.35",
         "13.073333333333332",
         "14.86",
         "3204802",
         "3340897.3333333335",
         "3518541"
        ],
        [
         "Botswana",
         "2680.0",
         "4680.0",
         "8250.0",
         "3505142826.86259",
         "9615472469.419985",
         "20124230777.6555",
         "10.07",
         "14.003333333333336",
         "19.39",
         "1305696",
         "1807656.6666666667",
         "2439892"
        ],
        [
         "Brunei Darussalam",
         "30810.0",
         "34495.0",
         "38180.0",
         "13785012116.7097",
         "14952709810.5124",
         "16120407504.3151",
         "0.65",
         "1.555",
         "2.46",
         "422212",
         "434808.0",
         "447404"
        ],
        [
         "Bulgaria",
         "1660.0",
         "8120.0",
         "13100.0",
         "13565906176.3777",
         "54422661944.83667",
         "84720088956.2712",
         "1.19",
         "3.4225000000000003",
         "5.3",
         "6465097",
         "7042547.5",
         "8170172"
        ],
        [
         "Burkina Faso",
         "260.0",
         "645.0",
         "860.0",
         "3135673598.47197",
         "12972685493.825466",
         "19356556225.2465",
         "28.4",
         "39.415",
         "64.83",
         "11925546",
         "18672690.25",
         "22509038"
        ],
        [
         "Burundi",
         "130.0",
         "193.33333333333334",
         "240.0",
         "859340937.275325",
         "2070686776.8104184",
         "2699979060.64512",
         "8.18",
         "27.563333333333333",
         "56.62",
         "6470194",
         "10044936.666666666",
         "12617036"
        ],
        [
         "Cabo Verde",
         "810.0",
         "2317.5",
         "3620.0",
         "303441502.831727",
         "1142058000.5618348",
         "1855146770.9132",
         "2.89",
         "9.33",
         "12.41",
         "375428",
         "463954.5",
         "514679"
        ],
        [
         "Cambodia",
         "1430.0",
         "1916.6666666666667",
         "2270.0",
         "22272199502.1818",
         "31829457363.237133",
         "38995460841.2199",
         "5.23",
         "8.053333333333333",
         "12.87",
         "15623251",
         "16516816.333333334",
         "17201724"
        ],
        [
         "Cameroon",
         "1000.0",
         "1432.5",
         "1660.0",
         "11383818350.6522",
         "33094386633.469254",
         "45747510263.4727",
         "3.93",
         "9.815",
         "26.04",
         "11331821",
         "21984641.0",
         "27632771"
        ],
        [
         "Canada",
         "22740.0",
         "22740.0",
         "22740.0",
         "697909203732.725",
         "697909203732.725",
         "697909203732.725",
         "0.59",
         "0.59",
         "0.59",
         "30685730",
         "30685730.0",
         "30685730"
        ],
        [
         "Cayman Islands",
         "61780.0",
         "61780.0",
         "61780.0",
         "4422801748.73949",
         "4422801748.73949",
         "4422801748.73949",
         "13.54",
         "13.54",
         "13.54",
         "71591",
         "71591.0",
         "71591"
        ],
        [
         "Central African Republic",
         "470.0",
         "470.0",
         "470.0",
         "1349587850.01866",
         "1349587850.01866",
         "1349587850.01866",
         "42.64",
         "42.64",
         "42.64",
         "2871910",
         "2871910.0",
         "2871910"
        ],
        [
         "Chad",
         "180.0",
         "655.0",
         "1130.0",
         "1507015822.62835",
         "9015543511.155325",
         "16524071199.6823",
         "20.66",
         "34.765",
         "48.87",
         "8512093",
         "11579857.0",
         "14647621"
        ],
        [
         "Chile",
         "12960.0",
         "14160.0",
         "15440.0",
         "251017616877.927",
         "268962474132.462",
         "301825433784.235",
         "1.29",
         "2.0933333333333333",
         "2.72",
         "18047625",
         "18990428.333333332",
         "19553036"
        ],
        [
         "China",
         "330.0",
         "330.0",
         "330.0",
         "374893953358.05",
         "374893953358.05",
         "374893953358.05",
         "8.47",
         "8.47",
         "8.47",
         "1135185000",
         "1135185000.0",
         "1135185000"
        ],
        [
         "Colombia",
         "2370.0",
         "5550.0",
         "7420.0",
         "92669093768.0226",
         "269172613226.55316",
         "348545494567.166",
         "0.0",
         "4.2075000000000005",
         "7.32",
         "39089934",
         "47106953.75",
         "51737944"
        ],
        [
         "Costa Rica",
         "1740.0",
         "9355.0",
         "13210.0",
         "5445106526.75082",
         "45841060408.80885",
         "67119511463.9894",
         "3.98",
         "7.0925",
         "13.75",
         "3121706",
         "4513957.25",
         "5081765"
        ],
        [
         "Cote d'Ivoire",
         "610.0",
         "1762.5",
         "2440.0",
         "10715842936.1899",
         "48379545855.46539",
         "74090329055.8019",
         "9.67",
         "23.21",
         "46.1",
         "17699004",
         "25563949.25",
         "30395002"
        ],
        [
         "Croatia",
         "13580.0",
         "16023.333333333334",
         "19370.0",
         "56371786224.619",
         "63413761433.02817",
         "74679345599.8802",
         "1.45",
         "1.6733333333333331",
         "1.84",
         "3855641",
         "3973857.3333333335",
         "4151725"
        ],
        [
         "Cuba",
         "2620.0",
         "4176.666666666667",
         "7270.0",
         "28120656969.8603",
         "46388321856.14097",
         "81915860090.0296",
         "0.22",
         "2.48",
         "4.45",
         "10631799",
         "11005324.333333334",
         "11275065"
        ],
        [
         "Cyprus",
         "14180.0",
         "25142.5",
         "33020.0",
         "9843305304.46781",
         "21606724508.708305",
         "30135815060.5181",
         "0.41",
         "1.145",
         "1.93",
         "947667",
         "1200196.5",
         "1331370"
        ],
        [
         "Czechia",
         "18340.0",
         "22580.0",
         "27210.0",
         "193417094468.938",
         "240374064247.60632",
         "290360740994.031",
         "0.09",
         "1.2433333333333334",
         "2.12",
         "10546059",
         "10638678.333333334",
         "10697858"
        ],
        [
         "Denmark",
         "24380.0",
         "50664.0",
         "73320.0",
         "125338283635.763",
         "288140455720.7038",
         "432816038475.892",
         "0.06",
         "0.392",
         "0.63",
         "5140939",
         "5579695.8",
         "5903037"
        ],
        [
         "Dominica",
         "4290.0",
         "7180.0",
         "9740.0",
         "294217097.460106",
         "491423812.780062",
         "651112025.200484",
         "2.51",
         "5.796666666666667",
         "11.92",
         "66826",
         "68582.33333333333",
         "70410"
        ],
        [
         "Dominican Republic",
         "2650.0",
         "6337.5",
         "9150.0",
         "22728645485.3376",
         "67720647233.51691",
         "102735717829.481",
         "3.92",
         "7.015000000000001",
         "12.65",
         "8584190",
         "10314513.25",
         "11230734"
        ],
        [
         "Ecuador",
         "1500.0",
         "4857.5",
         "6550.0",
         "19065970014.8224",
         "81947355632.66437",
         "116763896937.257",
         "1.51",
         "3.0625",
         "6.42",
         "12689206",
         "16081348.25",
         "17823897"
        ],
        [
         "Egypt, Arab Rep.",
         "1330.0",
         "2145.0",
         "2960.0",
         "97432762038.1701",
         "210555901346.94656",
         "323679040655.723",
         "1.24",
         "7.5600000000000005",
         "13.88",
         "73083284",
         "91199204.0",
         "109315124"
        ],
        [
         "El Salvador",
         "1890.0",
         "3480.0",
         "4710.0",
         "11209909097.7939",
         "21559512662.007347",
         "29588979933.4935",
         "7.27",
         "12.1775",
         "15.57",
         "5943366",
         "6160508.5",
         "6280319"
        ],
        [
         "Equatorial Guinea",
         "660.0",
         "4690.0",
         "8720.0",
         "466800829.47266",
         "6572262322.90368",
         "12677723816.3347",
         "47.04",
         "54.425",
         "61.81",
         "703279",
         "1078601.0",
         "1453923"
        ],
        [
         "Eritrea",
         "310.0",
         "310.0",
         "310.0",
         "696070945.451352",
         "696070945.451352",
         "696070945.451352",
         "39.87",
         "39.87",
         "39.87",
         "2247031",
         "2247031.0",
         "2247031"
        ],
        [
         "Estonia",
         "4170.0",
         "18575.0",
         "27650.0",
         "5820015908.14",
         "24832505874.18315",
         "37295676711.5892",
         "0.96",
         "1.87",
         "2.48",
         "1315407",
         "1347688.5",
         "1396985"
        ],
        [
         "Eswatini",
         "1220.0",
         "2380.0",
         "3540.0",
         "1064370093.76521",
         "2557450815.75943",
         "4050531537.75365",
         "11.47",
         "18.47",
         "25.47",
         "872428",
         "1007620.5",
         "1142813"
        ],
        [
         "Ethiopia",
         "120.0",
         "570.0",
         "1010.0",
         "8418570725.50227",
         "64871461334.87899",
         "126125706369.814",
         "17.64",
         "34.46666666666667",
         "61.92",
         "67411494",
         "98887638.66666667",
         "125384287"
        ],
        [
         "Fiji",
         "2150.0",
         "4272.5",
         "5440.0",
         "1807689111.76739",
         "3881625241.4011073",
         "5003514000.17999",
         "1.78",
         "4.9575",
         "9.03",
         "840909",
         "898468.0",
         "919422"
        ]
       ],
       "shape": {
        "columns": 12,
        "rows": 169
       }
      },
      "text/html": [
       "<div>\n",
       "<style scoped>\n",
       "    .dataframe tbody tr th:only-of-type {\n",
       "        vertical-align: middle;\n",
       "    }\n",
       "\n",
       "    .dataframe tbody tr th {\n",
       "        vertical-align: top;\n",
       "    }\n",
       "\n",
       "    .dataframe thead th {\n",
       "        text-align: right;\n",
       "    }\n",
       "</style>\n",
       "<table border=\"1\" class=\"dataframe\">\n",
       "  <thead>\n",
       "    <tr style=\"text-align: right;\">\n",
       "      <th></th>\n",
       "      <th>g_n_i___p_c___m_i_n</th>\n",
       "      <th>g_n_i___p_c___m_e_a_n</th>\n",
       "      <th>g_n_i___p_c___m_a_x</th>\n",
       "      <th>g_n_i___m_i_n</th>\n",
       "      <th>g_n_i___m_e_a_n</th>\n",
       "      <th>g_n_i___m_a_x</th>\n",
       "      <th>p_r_i_m_a_r_y___o_u_t___s_c_h_o_o_l___p_c_t___m_i_n</th>\n",
       "      <th>p_r_i_m_a_r_y___o_u_t___s_c_h_o_o_l___p_c_t___m_e_a_n</th>\n",
       "      <th>p_r_i_m_a_r_y___o_u_t___s_c_h_o_o_l___p_c_t___m_a_x</th>\n",
       "      <th>p_o_p___m_i_n</th>\n",
       "      <th>p_o_p___m_e_a_n</th>\n",
       "      <th>p_o_p___m_a_x</th>\n",
       "    </tr>\n",
       "    <tr>\n",
       "      <th>country</th>\n",
       "      <th></th>\n",
       "      <th></th>\n",
       "      <th></th>\n",
       "      <th></th>\n",
       "      <th></th>\n",
       "      <th></th>\n",
       "      <th></th>\n",
       "      <th></th>\n",
       "      <th></th>\n",
       "      <th></th>\n",
       "      <th></th>\n",
       "      <th></th>\n",
       "    </tr>\n",
       "  </thead>\n",
       "  <tbody>\n",
       "    <tr>\n",
       "      <th>Albania</th>\n",
       "      <td>4410.0</td>\n",
       "      <td>5516.666667</td>\n",
       "      <td>6820.0</td>\n",
       "      <td>1.271542e+10</td>\n",
       "      <td>1.558442e+10</td>\n",
       "      <td>1.893433e+10</td>\n",
       "      <td>0.21</td>\n",
       "      <td>4.2200</td>\n",
       "      <td>8.48</td>\n",
       "      <td>2777689</td>\n",
       "      <td>2.832080e+06</td>\n",
       "      <td>2880703</td>\n",
       "    </tr>\n",
       "    <tr>\n",
       "      <th>Algeria</th>\n",
       "      <td>1600.0</td>\n",
       "      <td>3568.000000</td>\n",
       "      <td>5390.0</td>\n",
       "      <td>4.948676e+10</td>\n",
       "      <td>1.409466e+11</td>\n",
       "      <td>2.158068e+11</td>\n",
       "      <td>0.30</td>\n",
       "      <td>3.9200</td>\n",
       "      <td>13.05</td>\n",
       "      <td>25375810</td>\n",
       "      <td>3.716374e+07</td>\n",
       "      <td>45477389</td>\n",
       "    </tr>\n",
       "    <tr>\n",
       "      <th>Andorra</th>\n",
       "      <td>42450.0</td>\n",
       "      <td>42450.000000</td>\n",
       "      <td>42450.0</td>\n",
       "      <td>3.284843e+09</td>\n",
       "      <td>3.284843e+09</td>\n",
       "      <td>3.284843e+09</td>\n",
       "      <td>8.92</td>\n",
       "      <td>8.9200</td>\n",
       "      <td>8.92</td>\n",
       "      <td>77380</td>\n",
       "      <td>7.738000e+04</td>\n",
       "      <td>77380</td>\n",
       "    </tr>\n",
       "    <tr>\n",
       "      <th>Antigua and Barbuda</th>\n",
       "      <td>14550.0</td>\n",
       "      <td>14550.000000</td>\n",
       "      <td>14550.0</td>\n",
       "      <td>1.301281e+09</td>\n",
       "      <td>1.301281e+09</td>\n",
       "      <td>1.301281e+09</td>\n",
       "      <td>0.98</td>\n",
       "      <td>0.9800</td>\n",
       "      <td>0.98</td>\n",
       "      <td>89409</td>\n",
       "      <td>8.940900e+04</td>\n",
       "      <td>89409</td>\n",
       "    </tr>\n",
       "    <tr>\n",
       "      <th>Argentina</th>\n",
       "      <td>7400.0</td>\n",
       "      <td>10190.000000</td>\n",
       "      <td>12500.0</td>\n",
       "      <td>2.755443e+11</td>\n",
       "      <td>4.410634e+11</td>\n",
       "      <td>5.432799e+11</td>\n",
       "      <td>0.50</td>\n",
       "      <td>0.7375</td>\n",
       "      <td>0.87</td>\n",
       "      <td>37213984</td>\n",
       "      <td>4.282272e+07</td>\n",
       "      <td>45407904</td>\n",
       "    </tr>\n",
       "    <tr>\n",
       "      <th>...</th>\n",
       "      <td>...</td>\n",
       "      <td>...</td>\n",
       "      <td>...</td>\n",
       "      <td>...</td>\n",
       "      <td>...</td>\n",
       "      <td>...</td>\n",
       "      <td>...</td>\n",
       "      <td>...</td>\n",
       "      <td>...</td>\n",
       "      <td>...</td>\n",
       "      <td>...</td>\n",
       "      <td>...</td>\n",
       "    </tr>\n",
       "    <tr>\n",
       "      <th>Venezuela, RB</th>\n",
       "      <td>4070.0</td>\n",
       "      <td>4070.000000</td>\n",
       "      <td>4070.0</td>\n",
       "      <td>9.973273e+10</td>\n",
       "      <td>9.973273e+10</td>\n",
       "      <td>9.973273e+10</td>\n",
       "      <td>9.06</td>\n",
       "      <td>9.0600</td>\n",
       "      <td>9.06</td>\n",
       "      <td>24526708</td>\n",
       "      <td>2.452671e+07</td>\n",
       "      <td>24526708</td>\n",
       "    </tr>\n",
       "    <tr>\n",
       "      <th>Viet Nam</th>\n",
       "      <td>390.0</td>\n",
       "      <td>1425.000000</td>\n",
       "      <td>2460.0</td>\n",
       "      <td>3.020357e+10</td>\n",
       "      <td>1.293010e+11</td>\n",
       "      <td>2.283984e+11</td>\n",
       "      <td>0.00</td>\n",
       "      <td>0.1750</td>\n",
       "      <td>0.35</td>\n",
       "      <td>77154011</td>\n",
       "      <td>8.498863e+07</td>\n",
       "      <td>92823254</td>\n",
       "    </tr>\n",
       "    <tr>\n",
       "      <th>West Bank and Gaza</th>\n",
       "      <td>1550.0</td>\n",
       "      <td>3410.000000</td>\n",
       "      <td>4720.0</td>\n",
       "      <td>4.537651e+09</td>\n",
       "      <td>1.544425e+10</td>\n",
       "      <td>2.381074e+10</td>\n",
       "      <td>5.94</td>\n",
       "      <td>7.2000</td>\n",
       "      <td>9.20</td>\n",
       "      <td>2922153</td>\n",
       "      <td>4.259782e+06</td>\n",
       "      <td>5043612</td>\n",
       "    </tr>\n",
       "    <tr>\n",
       "      <th>Zambia</th>\n",
       "      <td>350.0</td>\n",
       "      <td>350.000000</td>\n",
       "      <td>350.0</td>\n",
       "      <td>3.487044e+09</td>\n",
       "      <td>3.487044e+09</td>\n",
       "      <td>3.487044e+09</td>\n",
       "      <td>31.68</td>\n",
       "      <td>31.6800</td>\n",
       "      <td>31.68</td>\n",
       "      <td>10017631</td>\n",
       "      <td>1.001763e+07</td>\n",
       "      <td>10017631</td>\n",
       "    </tr>\n",
       "    <tr>\n",
       "      <th>Zimbabwe</th>\n",
       "      <td>1330.0</td>\n",
       "      <td>1660.000000</td>\n",
       "      <td>1960.0</td>\n",
       "      <td>1.908459e+10</td>\n",
       "      <td>2.560688e+10</td>\n",
       "      <td>3.146984e+10</td>\n",
       "      <td>5.59</td>\n",
       "      <td>11.4400</td>\n",
       "      <td>15.16</td>\n",
       "      <td>14399013</td>\n",
       "      <td>1.533165e+07</td>\n",
       "      <td>16069056</td>\n",
       "    </tr>\n",
       "  </tbody>\n",
       "</table>\n",
       "<p>169 rows × 12 columns</p>\n",
       "</div>"
      ],
      "text/plain": [
       "                     g_n_i___p_c___m_i_n  g_n_i___p_c___m_e_a_n  \\\n",
       "country                                                           \n",
       "Albania                           4410.0            5516.666667   \n",
       "Algeria                           1600.0            3568.000000   \n",
       "Andorra                          42450.0           42450.000000   \n",
       "Antigua and Barbuda              14550.0           14550.000000   \n",
       "Argentina                         7400.0           10190.000000   \n",
       "...                                  ...                    ...   \n",
       "Venezuela, RB                     4070.0            4070.000000   \n",
       "Viet Nam                           390.0            1425.000000   \n",
       "West Bank and Gaza                1550.0            3410.000000   \n",
       "Zambia                             350.0             350.000000   \n",
       "Zimbabwe                          1330.0            1660.000000   \n",
       "\n",
       "                     g_n_i___p_c___m_a_x  g_n_i___m_i_n  g_n_i___m_e_a_n  \\\n",
       "country                                                                    \n",
       "Albania                           6820.0   1.271542e+10     1.558442e+10   \n",
       "Algeria                           5390.0   4.948676e+10     1.409466e+11   \n",
       "Andorra                          42450.0   3.284843e+09     3.284843e+09   \n",
       "Antigua and Barbuda              14550.0   1.301281e+09     1.301281e+09   \n",
       "Argentina                        12500.0   2.755443e+11     4.410634e+11   \n",
       "...                                  ...            ...              ...   \n",
       "Venezuela, RB                     4070.0   9.973273e+10     9.973273e+10   \n",
       "Viet Nam                          2460.0   3.020357e+10     1.293010e+11   \n",
       "West Bank and Gaza                4720.0   4.537651e+09     1.544425e+10   \n",
       "Zambia                             350.0   3.487044e+09     3.487044e+09   \n",
       "Zimbabwe                          1960.0   1.908459e+10     2.560688e+10   \n",
       "\n",
       "                     g_n_i___m_a_x  \\\n",
       "country                              \n",
       "Albania               1.893433e+10   \n",
       "Algeria               2.158068e+11   \n",
       "Andorra               3.284843e+09   \n",
       "Antigua and Barbuda   1.301281e+09   \n",
       "Argentina             5.432799e+11   \n",
       "...                            ...   \n",
       "Venezuela, RB         9.973273e+10   \n",
       "Viet Nam              2.283984e+11   \n",
       "West Bank and Gaza    2.381074e+10   \n",
       "Zambia                3.487044e+09   \n",
       "Zimbabwe              3.146984e+10   \n",
       "\n",
       "                     p_r_i_m_a_r_y___o_u_t___s_c_h_o_o_l___p_c_t___m_i_n  \\\n",
       "country                                                                    \n",
       "Albania                                                           0.21     \n",
       "Algeria                                                           0.30     \n",
       "Andorra                                                           8.92     \n",
       "Antigua and Barbuda                                               0.98     \n",
       "Argentina                                                         0.50     \n",
       "...                                                                ...     \n",
       "Venezuela, RB                                                     9.06     \n",
       "Viet Nam                                                          0.00     \n",
       "West Bank and Gaza                                                5.94     \n",
       "Zambia                                                           31.68     \n",
       "Zimbabwe                                                          5.59     \n",
       "\n",
       "                     p_r_i_m_a_r_y___o_u_t___s_c_h_o_o_l___p_c_t___m_e_a_n  \\\n",
       "country                                                                      \n",
       "Albania                                                         4.2200       \n",
       "Algeria                                                         3.9200       \n",
       "Andorra                                                         8.9200       \n",
       "Antigua and Barbuda                                             0.9800       \n",
       "Argentina                                                       0.7375       \n",
       "...                                                                ...       \n",
       "Venezuela, RB                                                   9.0600       \n",
       "Viet Nam                                                        0.1750       \n",
       "West Bank and Gaza                                              7.2000       \n",
       "Zambia                                                         31.6800       \n",
       "Zimbabwe                                                       11.4400       \n",
       "\n",
       "                     p_r_i_m_a_r_y___o_u_t___s_c_h_o_o_l___p_c_t___m_a_x  \\\n",
       "country                                                                    \n",
       "Albania                                                           8.48     \n",
       "Algeria                                                          13.05     \n",
       "Andorra                                                           8.92     \n",
       "Antigua and Barbuda                                               0.98     \n",
       "Argentina                                                         0.87     \n",
       "...                                                                ...     \n",
       "Venezuela, RB                                                     9.06     \n",
       "Viet Nam                                                          0.35     \n",
       "West Bank and Gaza                                                9.20     \n",
       "Zambia                                                           31.68     \n",
       "Zimbabwe                                                         15.16     \n",
       "\n",
       "                     p_o_p___m_i_n  p_o_p___m_e_a_n  p_o_p___m_a_x  \n",
       "country                                                             \n",
       "Albania                    2777689     2.832080e+06        2880703  \n",
       "Algeria                   25375810     3.716374e+07       45477389  \n",
       "Andorra                      77380     7.738000e+04          77380  \n",
       "Antigua and Barbuda          89409     8.940900e+04          89409  \n",
       "Argentina                 37213984     4.282272e+07       45407904  \n",
       "...                            ...              ...            ...  \n",
       "Venezuela, RB             24526708     2.452671e+07       24526708  \n",
       "Viet Nam                  77154011     8.498863e+07       92823254  \n",
       "West Bank and Gaza         2922153     4.259782e+06        5043612  \n",
       "Zambia                    10017631     1.001763e+07       10017631  \n",
       "Zimbabwe                  14399013     1.533165e+07       16069056  \n",
       "\n",
       "[169 rows x 12 columns]"
      ]
     },
     "execution_count": 104,
     "metadata": {},
     "output_type": "execute_result"
    }
   ],
   "source": [
    "# flatten the two-level column headigs/ indexes\n",
    "# do you understand what the code is doing? what happens if you run this cell twice?\n",
    "sep = \"_\"\n",
    "df_gb_2.columns = (\n",
    "    df_gb_2.columns.to_flat_index()                                  # tuples -> Index\n",
    "              .map(lambda t: sep.join(str(x) for x in t if x is not None and x == x)))\n",
    "df_gb_2"
   ]
  },
  {
   "cell_type": "markdown",
   "metadata": {},
   "source": [
    "### Generating features: differences between rows and categorical cut-offs"
   ]
  },
  {
   "cell_type": "code",
   "execution_count": 78,
   "metadata": {},
   "outputs": [],
   "source": [
    "# we can also create a change feature\n",
    "# Why is sorting so important here?\n",
    "# Why is the first value nan? What would adding .abs() do?\n",
    "\n",
    "# Make sure data is sorted by year within each country\n",
    "df = df.sort_values(['country', 'year'])\n",
    "\n",
    "# Compute year-on-year absolute change in gni\n",
    "df['change_gni_pc'] = df.groupby('country')['gni_pc'].diff() #.abs()"
   ]
  },
  {
   "cell_type": "code",
   "execution_count": 79,
   "metadata": {},
   "outputs": [
    {
     "data": {
      "application/vnd.microsoft.datawrangler.viewer.v0+json": {
       "columns": [
        {
         "name": "index",
         "rawType": "int64",
         "type": "integer"
        },
        {
         "name": "isocode",
         "rawType": "object",
         "type": "string"
        },
        {
         "name": "country",
         "rawType": "object",
         "type": "string"
        },
        {
         "name": "year",
         "rawType": "int64",
         "type": "integer"
        },
        {
         "name": "primary_out_school_pct",
         "rawType": "float64",
         "type": "float"
        },
        {
         "name": "gni_pc",
         "rawType": "float64",
         "type": "float"
        },
        {
         "name": "gni",
         "rawType": "float64",
         "type": "float"
        },
        {
         "name": "pop",
         "rawType": "int64",
         "type": "integer"
        },
        {
         "name": "primary_compl_pct",
         "rawType": "float64",
         "type": "float"
        },
        {
         "name": "change_gni_pc",
         "rawType": "float64",
         "type": "float"
        }
       ],
       "ref": "c26fe61d-78d7-4b4e-887a-738b4d93848b",
       "rows": [
        [
         "357",
         "QAT",
         "Qatar",
         "2015",
         "3.98",
         "80370.0",
         "188422945058.14",
         "2344557",
         "94.37",
         "63330.0"
        ],
        [
         "329",
         "NOR",
         "Norway",
         "2015",
         "0.53",
         "93440.0",
         "484804927098.5",
         "5188607",
         "99.56",
         "56840.0"
        ],
        [
         "261",
         "MAC",
         "Macao SAR, China",
         "2015",
         "4.25",
         "58150.0",
         "37383962890.4152",
         "642900",
         "91.79",
         "43530.0"
        ],
        [
         "420",
         "CHE",
         "Switzerland",
         "2015",
         "0.03",
         "86810.0",
         "719021489788.098",
         "8282396",
         "96.63",
         "42230.0"
        ],
        [
         "203",
         "IRL",
         "Ireland",
         "2015",
         "0.05",
         "52400.0",
         "246397937191.918",
         "4701957",
         "98.71",
         "28270.0"
        ],
        [
         "114",
         "DNK",
         "Denmark",
         "2015",
         "0.63",
         "60350.0",
         "342995387157.982",
         "5683483",
         "99.58",
         "27790.0"
        ],
        [
         "415",
         "SWE",
         "Sweden",
         "2015",
         "0.8",
         "57910.0",
         "567474166788.596",
         "9799186",
         "99.32",
         "26310.0"
        ],
        [
         "189",
         "ISL",
         "Iceland",
         "2015",
         "1.26",
         "52790.0",
         "17462374121.0018",
         "330815",
         "99.1",
         "21060.0"
        ],
        [
         "151",
         "FIN",
         "Finland",
         "2015",
         "1.6",
         "46860.0",
         "256771981905.124",
         "5479531",
         "99.46",
         "20390.0"
        ],
        [
         "461",
         "ARE",
         "United Arab Emirates",
         "2015",
         "16.45",
         "48510.0",
         "412572607046.62",
         "8505237",
         "79.82",
         "20340.0"
        ],
        [
         "163",
         "DEU",
         "Germany",
         "2015",
         "0.86",
         "46590.0",
         "3805427627280.62",
         "81686611",
         "102.09",
         "20210.0"
        ],
        [
         "277",
         "MLT",
         "Malta",
         "2015",
         "1.25",
         "25470.0",
         "11314148657.7428",
         "444220",
         "98.24",
         "17870.0"
        ],
        [
         "230",
         "KOR",
         "Korea, Rep.",
         "2015",
         "0.16",
         "28720.0",
         "1465140433530.29",
         "51014947",
         "100.52",
         "17690.0"
        ],
        [
         "400",
         "ESP",
         "Spain",
         "2015",
         "3.04",
         "28700.0",
         "1332140437760.83",
         "46422303",
         "96.1",
         "16510.0"
        ],
        [
         "331",
         "NOR",
         "Norway",
         "2022",
         "0.95",
         "94290.0",
         "514526888862.36",
         "5457127",
         "99.28",
         "15680.0"
        ],
        [
         "138",
         "EST",
         "Estonia",
         "2015",
         "2.48",
         "18900.0",
         "24859266368.2025",
         "1315407",
         "97.09",
         "14730.0"
        ],
        [
         "352",
         "POL",
         "Poland",
         "2022",
         "0.02",
         "19110.0",
         "703554986789.572",
         "36821749",
         "98.25",
         "14420.0"
        ],
        [
         "422",
         "CHE",
         "Switzerland",
         "2022",
         "0.26",
         "95600.0",
         "839128169518.23",
         "8777088",
         "95.06",
         "13860.0"
        ],
        [
         "370",
         "SMR",
         "San Marino",
         "2022",
         "6.31",
         "53930.0",
         "1820312466.95528",
         "33755",
         "93.43",
         "13360.0"
        ],
        [
         "359",
         "QAT",
         "Qatar",
         "2022",
         "7.61",
         "71070.0",
         "188862743543.997",
         "2657333",
         "94.65",
         "13340.0"
        ],
        [
         "190",
         "ISL",
         "Iceland",
         "2020",
         "1.42",
         "65870.0",
         "24139684561.5161",
         "366463",
         "98.39",
         "13080.0"
        ],
        [
         "334",
         "OMN",
         "Oman",
         "2015",
         "3.59",
         "20550.0",
         "86008933957.9831",
         "4184895",
         "99.01",
         "12480.0"
        ],
        [
         "204",
         "IRL",
         "Ireland",
         "2020",
         "0.04",
         "64550.0",
         "325307551826.503",
         "5039747",
         "98.98",
         "12150.0"
        ],
        [
         "467",
         "USA",
         "United States",
         "2022",
         "3.98",
         "77060.0",
         "25740799806442.5",
         "334017321",
         "95.74",
         "12120.0"
        ],
        [
         "205",
         "IRL",
         "Ireland",
         "2022",
         "1.11",
         "76660.0",
         "399591209615.813",
         "5212836",
         "96.47",
         "12110.0"
        ],
        [
         "208",
         "ISR",
         "Israel",
         "2022",
         "3.66",
         "55450.0",
         "529962661359.123",
         "9557500",
         "94.91",
         "12080.0"
        ],
        [
         "253",
         "LTU",
         "Lithuania",
         "2015",
         "0.35",
         "15220.0",
         "44299185096.6528",
         "2911109",
         "98.68",
         "12000.0"
        ],
        [
         "106",
         "CYP",
         "Cyprus",
         "2015",
         "1.4",
         "26090.0",
         "22116023095.9136",
         "1219502",
         "96.82",
         "11910.0"
        ],
        [
         "210",
         "ITA",
         "Italy",
         "2015",
         "1.49",
         "33460.0",
         "2015562613864.84",
         "60229605",
         "98.95",
         "11480.0"
        ],
        [
         "26",
         "BHR",
         "Bahrain",
         "2015",
         "0.4",
         "23640.0",
         "32398179121.1868",
         "1370322",
         "99.37",
         "11140.0"
        ],
        [
         "385",
         "SGP",
         "Singapore",
         "2022",
         "0.93",
         "66910.0",
         "377197768442.652",
         "5637022",
         "99.63",
         "11130.0"
        ],
        [
         "390",
         "SVN",
         "Slovenia",
         "2015",
         "1.71",
         "22080.0",
         "45563690335.4651",
         "2063531",
         "98.25",
         "10880.0"
        ],
        [
         "116",
         "DNK",
         "Denmark",
         "2022",
         "0.59",
         "73320.0",
         "432816038475.892",
         "5903037",
         "99.89",
         "10610.0"
        ],
        [
         "465",
         "GBR",
         "United Kingdom",
         "2022",
         "0.09",
         "49080.0",
         "3318004308362.22",
         "67604000",
         "100.09",
         "10130.0"
        ],
        [
         "328",
         "NOR",
         "Norway",
         "2000",
         "0.7",
         "36600.0",
         "164362339491.391",
         "4490967",
         "99.09",
         "10100.0"
        ],
        [
         "449",
         "TUR",
         "Turkiye",
         "2015",
         "1.34",
         "12080.0",
         "944502208992.504",
         "78218479",
         "98.83",
         "9860.0"
        ],
        [
         "221",
         "KAZ",
         "Kazakhstan",
         "2015",
         "3.12",
         "11040.0",
         "199694752875.065",
         "18084169",
         "100.46",
         "9820.0"
        ],
        [
         "340",
         "PAN",
         "Panama",
         "2020",
         "10.9",
         "13070.0",
         "56094195829.4561",
         "4293261",
         "87.01",
         "9260.0"
        ],
        [
         "92",
         "CRI",
         "Costa Rica",
         "2015",
         "5.91",
         "10770.0",
         "51883343073.3572",
         "4818038",
         "95.09",
         "9030.0"
        ],
        [
         "185",
         "HUN",
         "Hungary",
         "2015",
         "4.28",
         "13310.0",
         "130373468981.65",
         "9797755",
         "98.65",
         "8680.0"
        ],
        [
         "113",
         "DNK",
         "Denmark",
         "2000",
         "0.32",
         "32560.0",
         "173860922273.634",
         "5339616",
         "100.0",
         "8180.0"
        ],
        [
         "135",
         "GNQ",
         "Equatorial Guinea",
         "2015",
         "61.81",
         "8720.0",
         "12677723816.3347",
         "1453923",
         "39.06",
         "8060.0"
        ],
        [
         "361",
         "ROU",
         "Romania",
         "2015",
         "7.89",
         "9610.0",
         "190388676541.962",
         "19815616",
         "92.97",
         "7900.0"
        ],
        [
         "417",
         "SWE",
         "Sweden",
         "2022",
         "0.57",
         "62480.0",
         "655249113695.29",
         "10486941",
         "99.89",
         "7800.0"
        ],
        [
         "191",
         "ISL",
         "Iceland",
         "2022",
         "1.52",
         "73620.0",
         "28124313337.1653",
         "382003",
         "98.95",
         "7750.0"
        ],
        [
         "182",
         "HKG",
         "Hong Kong SAR, China",
         "2020",
         "0.66",
         "48550.0",
         "363194268042.22",
         "7481000",
         "104.47",
         "7370.0"
        ],
        [
         "20",
         "AUT",
         "Austria",
         "2022",
         "1.68",
         "56320.0",
         "509249159702.096",
         "9041851",
         "97.16",
         "7320.0"
        ],
        [
         "270",
         "MYS",
         "Malaysia",
         "2015",
         "4.79",
         "10350.0",
         "323145413454.042",
         "31232798",
         "99.49",
         "6860.0"
        ],
        [
         "419",
         "CHE",
         "Switzerland",
         "2000",
         "0.6",
         "44580.0",
         "320278636734.694",
         "7184250",
         "96.89",
         "6630.0"
        ],
        [
         "257",
         "LUX",
         "Luxembourg",
         "2020",
         "1.59",
         "80090.0",
         "50491582293.0383",
         "630419",
         "77.28",
         "6560.0"
        ]
       ],
       "shape": {
        "columns": 9,
        "rows": 488
       }
      },
      "text/html": [
       "<div>\n",
       "<style scoped>\n",
       "    .dataframe tbody tr th:only-of-type {\n",
       "        vertical-align: middle;\n",
       "    }\n",
       "\n",
       "    .dataframe tbody tr th {\n",
       "        vertical-align: top;\n",
       "    }\n",
       "\n",
       "    .dataframe thead th {\n",
       "        text-align: right;\n",
       "    }\n",
       "</style>\n",
       "<table border=\"1\" class=\"dataframe\">\n",
       "  <thead>\n",
       "    <tr style=\"text-align: right;\">\n",
       "      <th></th>\n",
       "      <th>isocode</th>\n",
       "      <th>country</th>\n",
       "      <th>year</th>\n",
       "      <th>primary_out_school_pct</th>\n",
       "      <th>gni_pc</th>\n",
       "      <th>gni</th>\n",
       "      <th>pop</th>\n",
       "      <th>primary_compl_pct</th>\n",
       "      <th>change_gni_pc</th>\n",
       "    </tr>\n",
       "  </thead>\n",
       "  <tbody>\n",
       "    <tr>\n",
       "      <th>357</th>\n",
       "      <td>QAT</td>\n",
       "      <td>Qatar</td>\n",
       "      <td>2015</td>\n",
       "      <td>3.98</td>\n",
       "      <td>80370.0</td>\n",
       "      <td>1.884229e+11</td>\n",
       "      <td>2344557</td>\n",
       "      <td>94.37</td>\n",
       "      <td>63330.0</td>\n",
       "    </tr>\n",
       "    <tr>\n",
       "      <th>329</th>\n",
       "      <td>NOR</td>\n",
       "      <td>Norway</td>\n",
       "      <td>2015</td>\n",
       "      <td>0.53</td>\n",
       "      <td>93440.0</td>\n",
       "      <td>4.848049e+11</td>\n",
       "      <td>5188607</td>\n",
       "      <td>99.56</td>\n",
       "      <td>56840.0</td>\n",
       "    </tr>\n",
       "    <tr>\n",
       "      <th>261</th>\n",
       "      <td>MAC</td>\n",
       "      <td>Macao SAR, China</td>\n",
       "      <td>2015</td>\n",
       "      <td>4.25</td>\n",
       "      <td>58150.0</td>\n",
       "      <td>3.738396e+10</td>\n",
       "      <td>642900</td>\n",
       "      <td>91.79</td>\n",
       "      <td>43530.0</td>\n",
       "    </tr>\n",
       "    <tr>\n",
       "      <th>420</th>\n",
       "      <td>CHE</td>\n",
       "      <td>Switzerland</td>\n",
       "      <td>2015</td>\n",
       "      <td>0.03</td>\n",
       "      <td>86810.0</td>\n",
       "      <td>7.190215e+11</td>\n",
       "      <td>8282396</td>\n",
       "      <td>96.63</td>\n",
       "      <td>42230.0</td>\n",
       "    </tr>\n",
       "    <tr>\n",
       "      <th>203</th>\n",
       "      <td>IRL</td>\n",
       "      <td>Ireland</td>\n",
       "      <td>2015</td>\n",
       "      <td>0.05</td>\n",
       "      <td>52400.0</td>\n",
       "      <td>2.463979e+11</td>\n",
       "      <td>4701957</td>\n",
       "      <td>98.71</td>\n",
       "      <td>28270.0</td>\n",
       "    </tr>\n",
       "    <tr>\n",
       "      <th>...</th>\n",
       "      <td>...</td>\n",
       "      <td>...</td>\n",
       "      <td>...</td>\n",
       "      <td>...</td>\n",
       "      <td>...</td>\n",
       "      <td>...</td>\n",
       "      <td>...</td>\n",
       "      <td>...</td>\n",
       "      <td>...</td>\n",
       "    </tr>\n",
       "    <tr>\n",
       "      <th>477</th>\n",
       "      <td>VEN</td>\n",
       "      <td>Venezuela, RB</td>\n",
       "      <td>2000</td>\n",
       "      <td>9.06</td>\n",
       "      <td>4070.0</td>\n",
       "      <td>9.973273e+10</td>\n",
       "      <td>24526708</td>\n",
       "      <td>83.33</td>\n",
       "      <td>NaN</td>\n",
       "    </tr>\n",
       "    <tr>\n",
       "      <th>478</th>\n",
       "      <td>VNM</td>\n",
       "      <td>Viet Nam</td>\n",
       "      <td>2000</td>\n",
       "      <td>0.00</td>\n",
       "      <td>390.0</td>\n",
       "      <td>3.020357e+10</td>\n",
       "      <td>77154011</td>\n",
       "      <td>101.05</td>\n",
       "      <td>NaN</td>\n",
       "    </tr>\n",
       "    <tr>\n",
       "      <th>480</th>\n",
       "      <td>PSE</td>\n",
       "      <td>West Bank and Gaza</td>\n",
       "      <td>2000</td>\n",
       "      <td>7.40</td>\n",
       "      <td>1550.0</td>\n",
       "      <td>4.537651e+09</td>\n",
       "      <td>2922153</td>\n",
       "      <td>93.80</td>\n",
       "      <td>NaN</td>\n",
       "    </tr>\n",
       "    <tr>\n",
       "      <th>484</th>\n",
       "      <td>ZMB</td>\n",
       "      <td>Zambia</td>\n",
       "      <td>2000</td>\n",
       "      <td>31.68</td>\n",
       "      <td>350.0</td>\n",
       "      <td>3.487044e+09</td>\n",
       "      <td>10017631</td>\n",
       "      <td>60.55</td>\n",
       "      <td>NaN</td>\n",
       "    </tr>\n",
       "    <tr>\n",
       "      <th>485</th>\n",
       "      <td>ZWE</td>\n",
       "      <td>Zimbabwe</td>\n",
       "      <td>2015</td>\n",
       "      <td>15.16</td>\n",
       "      <td>1330.0</td>\n",
       "      <td>1.908459e+10</td>\n",
       "      <td>14399013</td>\n",
       "      <td>90.98</td>\n",
       "      <td>NaN</td>\n",
       "    </tr>\n",
       "  </tbody>\n",
       "</table>\n",
       "<p>488 rows × 9 columns</p>\n",
       "</div>"
      ],
      "text/plain": [
       "    isocode             country  year  primary_out_school_pct   gni_pc  \\\n",
       "357     QAT               Qatar  2015                    3.98  80370.0   \n",
       "329     NOR              Norway  2015                    0.53  93440.0   \n",
       "261     MAC    Macao SAR, China  2015                    4.25  58150.0   \n",
       "420     CHE         Switzerland  2015                    0.03  86810.0   \n",
       "203     IRL             Ireland  2015                    0.05  52400.0   \n",
       "..      ...                 ...   ...                     ...      ...   \n",
       "477     VEN       Venezuela, RB  2000                    9.06   4070.0   \n",
       "478     VNM            Viet Nam  2000                    0.00    390.0   \n",
       "480     PSE  West Bank and Gaza  2000                    7.40   1550.0   \n",
       "484     ZMB              Zambia  2000                   31.68    350.0   \n",
       "485     ZWE            Zimbabwe  2015                   15.16   1330.0   \n",
       "\n",
       "              gni       pop  primary_compl_pct  change_gni_pc  \n",
       "357  1.884229e+11   2344557              94.37        63330.0  \n",
       "329  4.848049e+11   5188607              99.56        56840.0  \n",
       "261  3.738396e+10    642900              91.79        43530.0  \n",
       "420  7.190215e+11   8282396              96.63        42230.0  \n",
       "203  2.463979e+11   4701957              98.71        28270.0  \n",
       "..            ...       ...                ...            ...  \n",
       "477  9.973273e+10  24526708              83.33            NaN  \n",
       "478  3.020357e+10  77154011             101.05            NaN  \n",
       "480  4.537651e+09   2922153              93.80            NaN  \n",
       "484  3.487044e+09  10017631              60.55            NaN  \n",
       "485  1.908459e+10  14399013              90.98            NaN  \n",
       "\n",
       "[488 rows x 9 columns]"
      ]
     },
     "execution_count": 79,
     "metadata": {},
     "output_type": "execute_result"
    }
   ],
   "source": [
    "df.sort_values('change_gni_pc', ascending=False)"
   ]
  },
  {
   "cell_type": "code",
   "execution_count": 80,
   "metadata": {},
   "outputs": [
    {
     "data": {
      "application/vnd.microsoft.datawrangler.viewer.v0+json": {
       "columns": [
        {
         "name": "index",
         "rawType": "int64",
         "type": "integer"
        },
        {
         "name": "day",
         "rawType": "int64",
         "type": "integer"
        },
        {
         "name": "value",
         "rawType": "int64",
         "type": "integer"
        },
        {
         "name": "diff",
         "rawType": "float64",
         "type": "float"
        }
       ],
       "ref": "db99c856-7753-4833-90b4-04ac5980eb4b",
       "rows": [
        [
         "0",
         "1",
         "10",
         null
        ],
        [
         "1",
         "2",
         "20",
         "10.0"
        ],
        [
         "2",
         "3",
         "25",
         "5.0"
        ],
        [
         "3",
         "4",
         "26",
         "1.0"
        ],
        [
         "4",
         "5",
         "31",
         "5.0"
        ],
        [
         "5",
         "6",
         "27",
         "-4.0"
        ]
       ],
       "shape": {
        "columns": 3,
        "rows": 6
       }
      },
      "text/html": [
       "<div>\n",
       "<style scoped>\n",
       "    .dataframe tbody tr th:only-of-type {\n",
       "        vertical-align: middle;\n",
       "    }\n",
       "\n",
       "    .dataframe tbody tr th {\n",
       "        vertical-align: top;\n",
       "    }\n",
       "\n",
       "    .dataframe thead th {\n",
       "        text-align: right;\n",
       "    }\n",
       "</style>\n",
       "<table border=\"1\" class=\"dataframe\">\n",
       "  <thead>\n",
       "    <tr style=\"text-align: right;\">\n",
       "      <th></th>\n",
       "      <th>day</th>\n",
       "      <th>value</th>\n",
       "      <th>diff</th>\n",
       "    </tr>\n",
       "  </thead>\n",
       "  <tbody>\n",
       "    <tr>\n",
       "      <th>0</th>\n",
       "      <td>1</td>\n",
       "      <td>10</td>\n",
       "      <td>NaN</td>\n",
       "    </tr>\n",
       "    <tr>\n",
       "      <th>1</th>\n",
       "      <td>2</td>\n",
       "      <td>20</td>\n",
       "      <td>10.0</td>\n",
       "    </tr>\n",
       "    <tr>\n",
       "      <th>2</th>\n",
       "      <td>3</td>\n",
       "      <td>25</td>\n",
       "      <td>5.0</td>\n",
       "    </tr>\n",
       "    <tr>\n",
       "      <th>3</th>\n",
       "      <td>4</td>\n",
       "      <td>26</td>\n",
       "      <td>1.0</td>\n",
       "    </tr>\n",
       "    <tr>\n",
       "      <th>4</th>\n",
       "      <td>5</td>\n",
       "      <td>31</td>\n",
       "      <td>5.0</td>\n",
       "    </tr>\n",
       "    <tr>\n",
       "      <th>5</th>\n",
       "      <td>6</td>\n",
       "      <td>27</td>\n",
       "      <td>-4.0</td>\n",
       "    </tr>\n",
       "  </tbody>\n",
       "</table>\n",
       "</div>"
      ],
      "text/plain": [
       "   day  value  diff\n",
       "0    1     10   NaN\n",
       "1    2     20  10.0\n",
       "2    3     25   5.0\n",
       "3    4     26   1.0\n",
       "4    5     31   5.0\n",
       "5    6     27  -4.0"
      ]
     },
     "execution_count": 80,
     "metadata": {},
     "output_type": "execute_result"
    }
   ],
   "source": [
    "# create a toy data frame to check what .diff() does\n",
    "\n",
    "toy = pd.DataFrame({\n",
    "    'day': [1,2,3,4,5,6],\n",
    "    'value':[10,20,25,26,31,27]\n",
    "})\n",
    "\n",
    "toy['diff'] = toy['value'].diff()\n",
    "\n",
    "toy"
   ]
  },
  {
   "cell_type": "markdown",
   "metadata": {},
   "source": [
    "Let's create a categorical feature. NB to do this in practice you would really neeed to justify the threholds."
   ]
  },
  {
   "cell_type": "code",
   "execution_count": 81,
   "metadata": {},
   "outputs": [],
   "source": [
    "income_groups = {\n",
    "    lambda x: x < 1045: 'low',\n",
    "    lambda x: 1045 <= x < 4095: 'low_mid',\n",
    "    lambda x: 4095 <= x < 12695: 'upp_mid',\n",
    "    lambda x: x >= 12695: 'high'\n",
    "}"
   ]
  },
  {
   "cell_type": "code",
   "execution_count": 82,
   "metadata": {},
   "outputs": [
    {
     "data": {
      "application/vnd.microsoft.datawrangler.viewer.v0+json": {
       "columns": [
        {
         "name": "income_group",
         "rawType": "object",
         "type": "string"
        },
        {
         "name": "count",
         "rawType": "int64",
         "type": "integer"
        }
       ],
       "ref": "e5d56b73-9b98-420e-beb2-476788965cec",
       "rows": [
        [
         "high",
         "152"
        ],
        [
         "low_mid",
         "137"
        ],
        [
         "upp_mid",
         "122"
        ],
        [
         "low",
         "77"
        ]
       ],
       "shape": {
        "columns": 1,
        "rows": 4
       }
      },
      "text/plain": [
       "income_group\n",
       "high       152\n",
       "low_mid    137\n",
       "upp_mid    122\n",
       "low         77\n",
       "Name: count, dtype: int64"
      ]
     },
     "execution_count": 82,
     "metadata": {},
     "output_type": "execute_result"
    }
   ],
   "source": [
    "df['income_group'] = df['gni_pc'].map(\n",
    "    lambda x: next((v for k, v in income_groups.items() if k(x)), None)\n",
    ")\n",
    "df.income_group.value_counts()"
   ]
  },
  {
   "cell_type": "markdown",
   "metadata": {},
   "source": [
    "### Some more plotting"
   ]
  },
  {
   "cell_type": "code",
   "execution_count": 83,
   "metadata": {},
   "outputs": [
    {
     "name": "stdout",
     "output_type": "stream",
     "text": [
      "[2022 2020 2015 2000 1990]\n"
     ]
    },
    {
     "data": {
      "application/vnd.microsoft.datawrangler.viewer.v0+json": {
       "columns": [
        {
         "name": "index",
         "rawType": "int64",
         "type": "integer"
        },
        {
         "name": "isocode",
         "rawType": "object",
         "type": "string"
        },
        {
         "name": "country",
         "rawType": "object",
         "type": "string"
        },
        {
         "name": "year",
         "rawType": "int64",
         "type": "integer"
        },
        {
         "name": "primary_out_school_pct",
         "rawType": "float64",
         "type": "float"
        },
        {
         "name": "gni_pc",
         "rawType": "float64",
         "type": "float"
        },
        {
         "name": "gni",
         "rawType": "float64",
         "type": "float"
        },
        {
         "name": "pop",
         "rawType": "int64",
         "type": "integer"
        },
        {
         "name": "primary_compl_pct",
         "rawType": "float64",
         "type": "float"
        },
        {
         "name": "change_gni_pc",
         "rawType": "float64",
         "type": "float"
        },
        {
         "name": "income_group",
         "rawType": "object",
         "type": "string"
        }
       ],
       "ref": "aab112f6-9fd4-4a0e-aab0-772cf2791826",
       "rows": [
        [
         "487",
         "ZWE",
         "Zimbabwe",
         "2022",
         "5.59",
         "1960.0",
         "31469843197.6178",
         "16069056",
         "86.12",
         "270.0",
         "low_mid"
        ],
        [
         "315",
         "NPL",
         "Nepal",
         "2022",
         "1.01",
         "1380.0",
         "41059735664.2406",
         "29715436",
         "100.82",
         "510.0",
         "low_mid"
        ],
        [
         "101",
         "HRV",
         "Croatia",
         "2022",
         "1.73",
         "19370.0",
         "74679345599.8802",
         "3855641",
         "100.28",
         "4250.0",
         "high"
        ],
        [
         "336",
         "OMN",
         "Oman",
         "2022",
         "11.06",
         "19270.0",
         "91157580213.6776",
         "4730226",
         "86.59",
         "2170.0",
         "high"
        ],
        [
         "331",
         "NOR",
         "Norway",
         "2022",
         "0.95",
         "94290.0",
         "514526888862.36",
         "5457127",
         "99.28",
         "15680.0",
         "high"
        ],
        [
         "326",
         "MKD",
         "North Macedonia",
         "2022",
         "2.96",
         "7570.0",
         "13863406021.9813",
         "1831712",
         "93.41",
         "1110.0",
         "upp_mid"
        ],
        [
         "108",
         "CYP",
         "Cyprus",
         "2022",
         "0.84",
         "33020.0",
         "30135815060.5181",
         "1331370",
         "99.37",
         "5740.0",
         "high"
        ],
        [
         "322",
         "NER",
         "Niger",
         "2022",
         "39.16",
         "600.0",
         "15121636235.7499",
         "25311973",
         "52.99",
         "40.0",
         "low"
        ],
        [
         "111",
         "CZE",
         "Czechia",
         "2022",
         "0.09",
         "27210.0",
         "290360740994.031",
         "10672118",
         "103.11",
         "5020.0",
         "high"
        ],
        [
         "338",
         "PLW",
         "Palau",
         "2022",
         "17.69",
         "14050.0",
         "249483957.866588",
         "17759",
         "88.14",
         null,
         "high"
        ],
        [
         "309",
         "MOZ",
         "Mozambique",
         "2022",
         "1.03",
         "500.0",
         "16343626291.8256",
         "32656246",
         "73.42",
         "20.0",
         "low"
        ],
        [
         "305",
         "MAR",
         "Morocco",
         "2022",
         "0.53",
         "3690.0",
         "139911213545.513",
         "37329064",
         "101.03",
         "430.0",
         "low_mid"
        ],
        [
         "116",
         "DNK",
         "Denmark",
         "2022",
         "0.59",
         "73320.0",
         "432816038475.892",
         "5903037",
         "99.89",
         "10610.0",
         "high"
        ],
        [
         "119",
         "DMA",
         "Dominica",
         "2022",
         "11.92",
         "9740.0",
         "651112025.200484",
         "66826",
         "84.41",
         "2230.0",
         "upp_mid"
        ],
        [
         "299",
         "MNG",
         "Mongolia",
         "2022",
         "5.22",
         "4340.0",
         "14888009092.1644",
         "3433748",
         "95.79",
         "650.0",
         "upp_mid"
        ],
        [
         "123",
         "DOM",
         "Dominican Republic",
         "2022",
         "7.55",
         "9150.0",
         "102735717829.481",
         "11230734",
         "89.49",
         "2070.0",
         "upp_mid"
        ],
        [
         "337",
         "PAK",
         "Pakistan",
         "2022",
         "25.16",
         "1510.0",
         "369161939900.901",
         "243700667",
         "68.1",
         null,
         "low_mid"
        ],
        [
         "98",
         "CIV",
         "Cote d'Ivoire",
         "2022",
         "9.77",
         "2440.0",
         "74090329055.8019",
         "30395002",
         "68.59",
         "320.0",
         "low_mid"
        ],
        [
         "290",
         "MEX",
         "Mexico",
         "2022",
         "0.34",
         "10730.0",
         "1379912713723.93",
         "128613117",
         "102.24",
         "1810.0",
         "upp_mid"
        ],
        [
         "85",
         "CHL",
         "Chile",
         "2022",
         "1.29",
         "15440.0",
         "301825433784.235",
         "19553036",
         "100.27",
         "2480.0",
         "high"
        ],
        [
         "370",
         "SMR",
         "San Marino",
         "2022",
         "6.31",
         "53930.0",
         "1820312466.95528",
         "33755",
         "93.43",
         "13360.0",
         "high"
        ],
        [
         "77",
         "CMR",
         "Cameroon",
         "2022",
         "3.93",
         "1660.0",
         "45747510263.4727",
         "27632771",
         "69.43",
         "120.0",
         "low_mid"
        ],
        [
         "368",
         "WSM",
         "Samoa",
         "2022",
         "0.97",
         "3780.0",
         "814489414.297853",
         "215261",
         "103.64",
         "-280.0",
         "low_mid"
        ],
        [
         "79",
         "CYM",
         "Cayman Islands",
         "2022",
         "13.54",
         "61780.0",
         "4422801748.73949",
         "71591",
         "97.46",
         null,
         "high"
        ],
        [
         "363",
         "ROU",
         "Romania",
         "2022",
         "15.61",
         "15450.0",
         "294206474354.604",
         "19048502",
         "82.86",
         "2660.0",
         "high"
        ],
        [
         "359",
         "QAT",
         "Qatar",
         "2022",
         "7.61",
         "71070.0",
         "188862743543.997",
         "2657333",
         "94.65",
         "13340.0",
         "high"
        ],
        [
         "354",
         "PRT",
         "Portugal",
         "2022",
         "0.34",
         "25880.0",
         "270048205640.284",
         "10434332",
         "103.52",
         "3970.0",
         "high"
        ],
        [
         "341",
         "PAN",
         "Panama",
         "2022",
         "3.91",
         "16970.0",
         "74697039838.3306",
         "4400773",
         "92.77",
         "3900.0",
         "high"
        ],
        [
         "352",
         "POL",
         "Poland",
         "2022",
         "0.02",
         "19110.0",
         "703554986789.572",
         "36821749",
         "98.25",
         "14420.0",
         "high"
        ],
        [
         "350",
         "PHL",
         "Philippines",
         "2022",
         "9.67",
         "4010.0",
         "456996881689.533",
         "113964338",
         "87.98",
         "660.0",
         "low_mid"
        ],
        [
         "90",
         "COL",
         "Colombia",
         "2022",
         "7.32",
         "6560.0",
         "339395556322.041",
         "51737944",
         "97.12",
         "710.0",
         "upp_mid"
        ],
        [
         "347",
         "PER",
         "Peru",
         "2022",
         "0.26",
         "6920.0",
         "231716014606.043",
         "33475438",
         "102.58",
         "4960.0",
         "upp_mid"
        ],
        [
         "187",
         "HUN",
         "Hungary",
         "2022",
         "3.68",
         "19240.0",
         "184759158023.633",
         "9605074",
         "97.42",
         "2910.0",
         "high"
        ],
        [
         "94",
         "CRI",
         "Costa Rica",
         "2022",
         "4.73",
         "13210.0",
         "67119511463.9894",
         "5081765",
         "101.0",
         "1510.0",
         "high"
        ],
        [
         "293",
         "FSM",
         "Micronesia, Fed. Sts.",
         "2022",
         "15.96",
         "4050.0",
         "454198500.434409",
         "112114",
         "86.8",
         "60.0",
         "low_mid"
        ],
        [
         "127",
         "ECU",
         "Ecuador",
         "2022",
         "1.68",
         "6550.0",
         "116763896937.257",
         "17823897",
         "99.47",
         "1140.0",
         "upp_mid"
        ],
        [
         "378",
         "SEN",
         "Senegal",
         "2022",
         "26.62",
         "1600.0",
         "28159265095.5353",
         "17651103",
         "57.23",
         "160.0",
         "low_mid"
        ],
        [
         "212",
         "ITA",
         "Italy",
         "2022",
         "2.51",
         "39060.0",
         "2304963826976.64",
         "59013667",
         "97.15",
         "6460.0",
         "high"
        ],
        [
         "161",
         "GEO",
         "Georgia",
         "2022",
         "1.32",
         "5690.0",
         "21107767052.276",
         "3712502",
         "111.29",
         "1360.0",
         "upp_mid"
        ],
        [
         "227",
         "KIR",
         "Kiribati",
         "2022",
         "7.82",
         "3320.0",
         "433646402.964429",
         "130469",
         "102.37",
         "250.0",
         "low_mid"
        ],
        [
         "223",
         "KAZ",
         "Kazakhstan",
         "2022",
         "8.85",
         "9420.0",
         "188688263602.478",
         "20034609",
         "103.16",
         "1040.0",
         "upp_mid"
        ],
        [
         "165",
         "DEU",
         "Germany",
         "2022",
         "1.91",
         "54730.0",
         "4585886353580.13",
         "83797985",
         "97.76",
         "6220.0",
         "high"
        ],
        [
         "219",
         "JOR",
         "Jordan",
         "2022",
         "1.89",
         "4370.0",
         "49246002071.448",
         "11256263",
         "95.78",
         "300.0",
         "upp_mid"
        ],
        [
         "169",
         "GRC",
         "Greece",
         "2022",
         "0.0",
         "22040.0",
         "230076708577.928",
         "10436882",
         "99.35",
         "4010.0",
         "high"
        ],
        [
         "173",
         "GTM",
         "Guatemala",
         "2022",
         "7.69",
         "5220.0",
         "93112099371.9897",
         "17847877",
         "87.01",
         "860.0",
         "upp_mid"
        ],
        [
         "237",
         "KGZ",
         "Kyrgyz Republic",
         "2022",
         "6.08",
         "1540.0",
         "10727385192.9176",
         "6975220",
         "94.39",
         "330.0",
         "low_mid"
        ],
        [
         "208",
         "ISR",
         "Israel",
         "2022",
         "3.66",
         "55450.0",
         "529962661359.123",
         "9557500",
         "94.91",
         "12080.0",
         "high"
        ],
        [
         "205",
         "IRL",
         "Ireland",
         "2022",
         "1.11",
         "76660.0",
         "399591209615.813",
         "5212836",
         "96.47",
         "12110.0",
         "high"
        ],
        [
         "196",
         "IDN",
         "Indonesia",
         "2022",
         "1.21",
         "4520.0",
         "1261521639064.33",
         "278830529",
         "102.99",
         "670.0",
         "upp_mid"
        ],
        [
         "180",
         "HND",
         "Honduras",
         "2022",
         "20.5",
         "2700.0",
         "28217097886.46",
         "10463872",
         "69.9",
         "580.0",
         "low_mid"
        ]
       ],
       "shape": {
        "columns": 10,
        "rows": 169
       }
      },
      "text/html": [
       "<div>\n",
       "<style scoped>\n",
       "    .dataframe tbody tr th:only-of-type {\n",
       "        vertical-align: middle;\n",
       "    }\n",
       "\n",
       "    .dataframe tbody tr th {\n",
       "        vertical-align: top;\n",
       "    }\n",
       "\n",
       "    .dataframe thead th {\n",
       "        text-align: right;\n",
       "    }\n",
       "</style>\n",
       "<table border=\"1\" class=\"dataframe\">\n",
       "  <thead>\n",
       "    <tr style=\"text-align: right;\">\n",
       "      <th></th>\n",
       "      <th>isocode</th>\n",
       "      <th>country</th>\n",
       "      <th>year</th>\n",
       "      <th>primary_out_school_pct</th>\n",
       "      <th>gni_pc</th>\n",
       "      <th>gni</th>\n",
       "      <th>pop</th>\n",
       "      <th>primary_compl_pct</th>\n",
       "      <th>change_gni_pc</th>\n",
       "      <th>income_group</th>\n",
       "    </tr>\n",
       "  </thead>\n",
       "  <tbody>\n",
       "    <tr>\n",
       "      <th>487</th>\n",
       "      <td>ZWE</td>\n",
       "      <td>Zimbabwe</td>\n",
       "      <td>2022</td>\n",
       "      <td>5.59</td>\n",
       "      <td>1960.0</td>\n",
       "      <td>3.146984e+10</td>\n",
       "      <td>16069056</td>\n",
       "      <td>86.12</td>\n",
       "      <td>270.0</td>\n",
       "      <td>low_mid</td>\n",
       "    </tr>\n",
       "    <tr>\n",
       "      <th>315</th>\n",
       "      <td>NPL</td>\n",
       "      <td>Nepal</td>\n",
       "      <td>2022</td>\n",
       "      <td>1.01</td>\n",
       "      <td>1380.0</td>\n",
       "      <td>4.105974e+10</td>\n",
       "      <td>29715436</td>\n",
       "      <td>100.82</td>\n",
       "      <td>510.0</td>\n",
       "      <td>low_mid</td>\n",
       "    </tr>\n",
       "    <tr>\n",
       "      <th>101</th>\n",
       "      <td>HRV</td>\n",
       "      <td>Croatia</td>\n",
       "      <td>2022</td>\n",
       "      <td>1.73</td>\n",
       "      <td>19370.0</td>\n",
       "      <td>7.467935e+10</td>\n",
       "      <td>3855641</td>\n",
       "      <td>100.28</td>\n",
       "      <td>4250.0</td>\n",
       "      <td>high</td>\n",
       "    </tr>\n",
       "    <tr>\n",
       "      <th>336</th>\n",
       "      <td>OMN</td>\n",
       "      <td>Oman</td>\n",
       "      <td>2022</td>\n",
       "      <td>11.06</td>\n",
       "      <td>19270.0</td>\n",
       "      <td>9.115758e+10</td>\n",
       "      <td>4730226</td>\n",
       "      <td>86.59</td>\n",
       "      <td>2170.0</td>\n",
       "      <td>high</td>\n",
       "    </tr>\n",
       "    <tr>\n",
       "      <th>331</th>\n",
       "      <td>NOR</td>\n",
       "      <td>Norway</td>\n",
       "      <td>2022</td>\n",
       "      <td>0.95</td>\n",
       "      <td>94290.0</td>\n",
       "      <td>5.145269e+11</td>\n",
       "      <td>5457127</td>\n",
       "      <td>99.28</td>\n",
       "      <td>15680.0</td>\n",
       "      <td>high</td>\n",
       "    </tr>\n",
       "    <tr>\n",
       "      <th>...</th>\n",
       "      <td>...</td>\n",
       "      <td>...</td>\n",
       "      <td>...</td>\n",
       "      <td>...</td>\n",
       "      <td>...</td>\n",
       "      <td>...</td>\n",
       "      <td>...</td>\n",
       "      <td>...</td>\n",
       "      <td>...</td>\n",
       "      <td>...</td>\n",
       "    </tr>\n",
       "    <tr>\n",
       "      <th>233</th>\n",
       "      <td>KWT</td>\n",
       "      <td>Kuwait</td>\n",
       "      <td>2000</td>\n",
       "      <td>9.93</td>\n",
       "      <td>18810.0</td>\n",
       "      <td>3.676778e+10</td>\n",
       "      <td>1954709</td>\n",
       "      <td>94.22</td>\n",
       "      <td>NaN</td>\n",
       "      <td>high</td>\n",
       "    </tr>\n",
       "    <tr>\n",
       "      <th>477</th>\n",
       "      <td>VEN</td>\n",
       "      <td>Venezuela, RB</td>\n",
       "      <td>2000</td>\n",
       "      <td>9.06</td>\n",
       "      <td>4070.0</td>\n",
       "      <td>9.973273e+10</td>\n",
       "      <td>24526708</td>\n",
       "      <td>83.33</td>\n",
       "      <td>NaN</td>\n",
       "      <td>low_mid</td>\n",
       "    </tr>\n",
       "    <tr>\n",
       "      <th>80</th>\n",
       "      <td>CAF</td>\n",
       "      <td>Central African Republic</td>\n",
       "      <td>1990</td>\n",
       "      <td>42.64</td>\n",
       "      <td>470.0</td>\n",
       "      <td>1.349588e+09</td>\n",
       "      <td>2871910</td>\n",
       "      <td>31.18</td>\n",
       "      <td>NaN</td>\n",
       "      <td>low</td>\n",
       "    </tr>\n",
       "    <tr>\n",
       "      <th>86</th>\n",
       "      <td>CHN</td>\n",
       "      <td>China</td>\n",
       "      <td>1990</td>\n",
       "      <td>8.47</td>\n",
       "      <td>330.0</td>\n",
       "      <td>3.748940e+11</td>\n",
       "      <td>1135185000</td>\n",
       "      <td>106.38</td>\n",
       "      <td>NaN</td>\n",
       "      <td>low</td>\n",
       "    </tr>\n",
       "    <tr>\n",
       "      <th>316</th>\n",
       "      <td>NCL</td>\n",
       "      <td>New Caledonia</td>\n",
       "      <td>1990</td>\n",
       "      <td>6.09</td>\n",
       "      <td>14290.0</td>\n",
       "      <td>2.521873e+09</td>\n",
       "      <td>176456</td>\n",
       "      <td>97.36</td>\n",
       "      <td>NaN</td>\n",
       "      <td>high</td>\n",
       "    </tr>\n",
       "  </tbody>\n",
       "</table>\n",
       "<p>169 rows × 10 columns</p>\n",
       "</div>"
      ],
      "text/plain": [
       "    isocode                   country  year  primary_out_school_pct   gni_pc  \\\n",
       "487     ZWE                  Zimbabwe  2022                    5.59   1960.0   \n",
       "315     NPL                     Nepal  2022                    1.01   1380.0   \n",
       "101     HRV                   Croatia  2022                    1.73  19370.0   \n",
       "336     OMN                      Oman  2022                   11.06  19270.0   \n",
       "331     NOR                    Norway  2022                    0.95  94290.0   \n",
       "..      ...                       ...   ...                     ...      ...   \n",
       "233     KWT                    Kuwait  2000                    9.93  18810.0   \n",
       "477     VEN             Venezuela, RB  2000                    9.06   4070.0   \n",
       "80      CAF  Central African Republic  1990                   42.64    470.0   \n",
       "86      CHN                     China  1990                    8.47    330.0   \n",
       "316     NCL             New Caledonia  1990                    6.09  14290.0   \n",
       "\n",
       "              gni         pop  primary_compl_pct  change_gni_pc income_group  \n",
       "487  3.146984e+10    16069056              86.12          270.0      low_mid  \n",
       "315  4.105974e+10    29715436             100.82          510.0      low_mid  \n",
       "101  7.467935e+10     3855641             100.28         4250.0         high  \n",
       "336  9.115758e+10     4730226              86.59         2170.0         high  \n",
       "331  5.145269e+11     5457127              99.28        15680.0         high  \n",
       "..            ...         ...                ...            ...          ...  \n",
       "233  3.676778e+10     1954709              94.22            NaN         high  \n",
       "477  9.973273e+10    24526708              83.33            NaN      low_mid  \n",
       "80   1.349588e+09     2871910              31.18            NaN          low  \n",
       "86   3.748940e+11  1135185000             106.38            NaN          low  \n",
       "316  2.521873e+09      176456              97.36            NaN         high  \n",
       "\n",
       "[169 rows x 10 columns]"
      ]
     },
     "execution_count": 83,
     "metadata": {},
     "output_type": "execute_result"
    }
   ],
   "source": [
    "# what does this bit of code do?\n",
    "df_highest_year = df.sort_values('year', ascending=False).drop_duplicates('country')\n",
    "print(df_highest_year.year.unique())\n",
    "df_highest_year"
   ]
  },
  {
   "cell_type": "code",
   "execution_count": 84,
   "metadata": {},
   "outputs": [
    {
     "data": {
      "text/plain": [
       "<Axes: >"
      ]
     },
     "execution_count": 84,
     "metadata": {},
     "output_type": "execute_result"
    },
    {
     "data": {
      "image/png": "[encoded data removed]",
      "text/plain": [
       "<Figure size 640x480 with 1 Axes>"
      ]
     },
     "metadata": {},
     "output_type": "display_data"
    }
   ],
   "source": [
    "df_highest_year.boxplot(column='gni_pc')"
   ]
  },
  {
   "cell_type": "code",
   "execution_count": 85,
   "metadata": {},
   "outputs": [
    {
     "data": {
      "image/png": "[encoded data removed]",
      "text/plain": [
       "<Figure size 640x480 with 1 Axes>"
      ]
     },
     "metadata": {},
     "output_type": "display_data"
    }
   ],
   "source": [
    "# what happens when you exchange y for x?\n",
    "sns.boxplot(data=df, y='gni_pc')\n",
    "plt.show()"
   ]
  },
  {
   "cell_type": "code",
   "execution_count": 86,
   "metadata": {},
   "outputs": [
    {
     "data": {
      "application/vnd.microsoft.datawrangler.viewer.v0+json": {
       "columns": [
        {
         "name": "index",
         "rawType": "int64",
         "type": "integer"
        },
        {
         "name": "isocode",
         "rawType": "object",
         "type": "string"
        },
        {
         "name": "country",
         "rawType": "object",
         "type": "string"
        },
        {
         "name": "year",
         "rawType": "int64",
         "type": "integer"
        },
        {
         "name": "primary_out_school_pct",
         "rawType": "float64",
         "type": "float"
        },
        {
         "name": "gni_pc",
         "rawType": "float64",
         "type": "float"
        },
        {
         "name": "gni",
         "rawType": "float64",
         "type": "float"
        },
        {
         "name": "pop",
         "rawType": "int64",
         "type": "integer"
        },
        {
         "name": "primary_compl_pct",
         "rawType": "float64",
         "type": "float"
        },
        {
         "name": "change_gni_pc",
         "rawType": "float64",
         "type": "float"
        },
        {
         "name": "income_group",
         "rawType": "object",
         "type": "string"
        }
       ],
       "ref": "b3967f9d-b58d-4145-b997-3def6b7fcd81",
       "rows": [
        [
         "422",
         "CHE",
         "Switzerland",
         "2022",
         "0.26",
         "95600.0",
         "839128169518.23",
         "8777088",
         "95.06",
         "13860.0",
         "high"
        ],
        [
         "331",
         "NOR",
         "Norway",
         "2022",
         "0.95",
         "94290.0",
         "514526888862.36",
         "5457127",
         "99.28",
         "15680.0",
         "high"
        ],
        [
         "258",
         "LUX",
         "Luxembourg",
         "2022",
         "0.35",
         "84200.0",
         "54988587518.1406",
         "653103",
         "77.84",
         "4110.0",
         "high"
        ],
        [
         "467",
         "USA",
         "United States",
         "2022",
         "3.98",
         "77060.0",
         "25740799806442.5",
         "334017321",
         "95.74",
         "12120.0",
         "high"
        ],
        [
         "205",
         "IRL",
         "Ireland",
         "2022",
         "1.11",
         "76660.0",
         "399591209615.813",
         "5212836",
         "96.47",
         "12110.0",
         "high"
        ],
        [
         "191",
         "ISL",
         "Iceland",
         "2022",
         "1.52",
         "73620.0",
         "28124313337.1653",
         "382003",
         "98.95",
         "7750.0",
         "high"
        ],
        [
         "116",
         "DNK",
         "Denmark",
         "2022",
         "0.59",
         "73320.0",
         "432816038475.892",
         "5903037",
         "99.89",
         "10610.0",
         "high"
        ],
        [
         "359",
         "QAT",
         "Qatar",
         "2022",
         "7.61",
         "71070.0",
         "188862743543.997",
         "2657333",
         "94.65",
         "13340.0",
         "high"
        ],
        [
         "385",
         "SGP",
         "Singapore",
         "2022",
         "0.93",
         "66910.0",
         "377197768442.652",
         "5637022",
         "99.63",
         "11130.0",
         "high"
        ],
        [
         "417",
         "SWE",
         "Sweden",
         "2022",
         "0.57",
         "62480.0",
         "655249113695.29",
         "10486941",
         "99.89",
         "7800.0",
         "high"
        ]
       ],
       "shape": {
        "columns": 10,
        "rows": 10
       }
      },
      "text/html": [
       "<div>\n",
       "<style scoped>\n",
       "    .dataframe tbody tr th:only-of-type {\n",
       "        vertical-align: middle;\n",
       "    }\n",
       "\n",
       "    .dataframe tbody tr th {\n",
       "        vertical-align: top;\n",
       "    }\n",
       "\n",
       "    .dataframe thead th {\n",
       "        text-align: right;\n",
       "    }\n",
       "</style>\n",
       "<table border=\"1\" class=\"dataframe\">\n",
       "  <thead>\n",
       "    <tr style=\"text-align: right;\">\n",
       "      <th></th>\n",
       "      <th>isocode</th>\n",
       "      <th>country</th>\n",
       "      <th>year</th>\n",
       "      <th>primary_out_school_pct</th>\n",
       "      <th>gni_pc</th>\n",
       "      <th>gni</th>\n",
       "      <th>pop</th>\n",
       "      <th>primary_compl_pct</th>\n",
       "      <th>change_gni_pc</th>\n",
       "      <th>income_group</th>\n",
       "    </tr>\n",
       "  </thead>\n",
       "  <tbody>\n",
       "    <tr>\n",
       "      <th>422</th>\n",
       "      <td>CHE</td>\n",
       "      <td>Switzerland</td>\n",
       "      <td>2022</td>\n",
       "      <td>0.26</td>\n",
       "      <td>95600.0</td>\n",
       "      <td>8.391282e+11</td>\n",
       "      <td>8777088</td>\n",
       "      <td>95.06</td>\n",
       "      <td>13860.0</td>\n",
       "      <td>high</td>\n",
       "    </tr>\n",
       "    <tr>\n",
       "      <th>331</th>\n",
       "      <td>NOR</td>\n",
       "      <td>Norway</td>\n",
       "      <td>2022</td>\n",
       "      <td>0.95</td>\n",
       "      <td>94290.0</td>\n",
       "      <td>5.145269e+11</td>\n",
       "      <td>5457127</td>\n",
       "      <td>99.28</td>\n",
       "      <td>15680.0</td>\n",
       "      <td>high</td>\n",
       "    </tr>\n",
       "    <tr>\n",
       "      <th>258</th>\n",
       "      <td>LUX</td>\n",
       "      <td>Luxembourg</td>\n",
       "      <td>2022</td>\n",
       "      <td>0.35</td>\n",
       "      <td>84200.0</td>\n",
       "      <td>5.498859e+10</td>\n",
       "      <td>653103</td>\n",
       "      <td>77.84</td>\n",
       "      <td>4110.0</td>\n",
       "      <td>high</td>\n",
       "    </tr>\n",
       "    <tr>\n",
       "      <th>467</th>\n",
       "      <td>USA</td>\n",
       "      <td>United States</td>\n",
       "      <td>2022</td>\n",
       "      <td>3.98</td>\n",
       "      <td>77060.0</td>\n",
       "      <td>2.574080e+13</td>\n",
       "      <td>334017321</td>\n",
       "      <td>95.74</td>\n",
       "      <td>12120.0</td>\n",
       "      <td>high</td>\n",
       "    </tr>\n",
       "    <tr>\n",
       "      <th>205</th>\n",
       "      <td>IRL</td>\n",
       "      <td>Ireland</td>\n",
       "      <td>2022</td>\n",
       "      <td>1.11</td>\n",
       "      <td>76660.0</td>\n",
       "      <td>3.995912e+11</td>\n",
       "      <td>5212836</td>\n",
       "      <td>96.47</td>\n",
       "      <td>12110.0</td>\n",
       "      <td>high</td>\n",
       "    </tr>\n",
       "    <tr>\n",
       "      <th>191</th>\n",
       "      <td>ISL</td>\n",
       "      <td>Iceland</td>\n",
       "      <td>2022</td>\n",
       "      <td>1.52</td>\n",
       "      <td>73620.0</td>\n",
       "      <td>2.812431e+10</td>\n",
       "      <td>382003</td>\n",
       "      <td>98.95</td>\n",
       "      <td>7750.0</td>\n",
       "      <td>high</td>\n",
       "    </tr>\n",
       "    <tr>\n",
       "      <th>116</th>\n",
       "      <td>DNK</td>\n",
       "      <td>Denmark</td>\n",
       "      <td>2022</td>\n",
       "      <td>0.59</td>\n",
       "      <td>73320.0</td>\n",
       "      <td>4.328160e+11</td>\n",
       "      <td>5903037</td>\n",
       "      <td>99.89</td>\n",
       "      <td>10610.0</td>\n",
       "      <td>high</td>\n",
       "    </tr>\n",
       "    <tr>\n",
       "      <th>359</th>\n",
       "      <td>QAT</td>\n",
       "      <td>Qatar</td>\n",
       "      <td>2022</td>\n",
       "      <td>7.61</td>\n",
       "      <td>71070.0</td>\n",
       "      <td>1.888627e+11</td>\n",
       "      <td>2657333</td>\n",
       "      <td>94.65</td>\n",
       "      <td>13340.0</td>\n",
       "      <td>high</td>\n",
       "    </tr>\n",
       "    <tr>\n",
       "      <th>385</th>\n",
       "      <td>SGP</td>\n",
       "      <td>Singapore</td>\n",
       "      <td>2022</td>\n",
       "      <td>0.93</td>\n",
       "      <td>66910.0</td>\n",
       "      <td>3.771978e+11</td>\n",
       "      <td>5637022</td>\n",
       "      <td>99.63</td>\n",
       "      <td>11130.0</td>\n",
       "      <td>high</td>\n",
       "    </tr>\n",
       "    <tr>\n",
       "      <th>417</th>\n",
       "      <td>SWE</td>\n",
       "      <td>Sweden</td>\n",
       "      <td>2022</td>\n",
       "      <td>0.57</td>\n",
       "      <td>62480.0</td>\n",
       "      <td>6.552491e+11</td>\n",
       "      <td>10486941</td>\n",
       "      <td>99.89</td>\n",
       "      <td>7800.0</td>\n",
       "      <td>high</td>\n",
       "    </tr>\n",
       "  </tbody>\n",
       "</table>\n",
       "</div>"
      ],
      "text/plain": [
       "    isocode        country  year  primary_out_school_pct   gni_pc  \\\n",
       "422     CHE    Switzerland  2022                    0.26  95600.0   \n",
       "331     NOR         Norway  2022                    0.95  94290.0   \n",
       "258     LUX     Luxembourg  2022                    0.35  84200.0   \n",
       "467     USA  United States  2022                    3.98  77060.0   \n",
       "205     IRL        Ireland  2022                    1.11  76660.0   \n",
       "191     ISL        Iceland  2022                    1.52  73620.0   \n",
       "116     DNK        Denmark  2022                    0.59  73320.0   \n",
       "359     QAT          Qatar  2022                    7.61  71070.0   \n",
       "385     SGP      Singapore  2022                    0.93  66910.0   \n",
       "417     SWE         Sweden  2022                    0.57  62480.0   \n",
       "\n",
       "              gni        pop  primary_compl_pct  change_gni_pc income_group  \n",
       "422  8.391282e+11    8777088              95.06        13860.0         high  \n",
       "331  5.145269e+11    5457127              99.28        15680.0         high  \n",
       "258  5.498859e+10     653103              77.84         4110.0         high  \n",
       "467  2.574080e+13  334017321              95.74        12120.0         high  \n",
       "205  3.995912e+11    5212836              96.47        12110.0         high  \n",
       "191  2.812431e+10     382003              98.95         7750.0         high  \n",
       "116  4.328160e+11    5903037              99.89        10610.0         high  \n",
       "359  1.888627e+11    2657333              94.65        13340.0         high  \n",
       "385  3.771978e+11    5637022              99.63        11130.0         high  \n",
       "417  6.552491e+11   10486941              99.89         7800.0         high  "
      ]
     },
     "execution_count": 86,
     "metadata": {},
     "output_type": "execute_result"
    }
   ],
   "source": [
    "df.iloc[df_highest_year.gni_pc.nlargest(10).index]"
   ]
  },
  {
   "cell_type": "code",
   "execution_count": 87,
   "metadata": {},
   "outputs": [
    {
     "data": {
      "text/plain": [
       "<Axes: >"
      ]
     },
     "execution_count": 87,
     "metadata": {},
     "output_type": "execute_result"
    },
    {
     "data": {
      "image/png": "[encoded data removed]",
      "text/plain": [
       "<Figure size 640x480 with 1 Axes>"
      ]
     },
     "metadata": {},
     "output_type": "display_data"
    }
   ],
   "source": [
    "df_highest_year.loc[df_highest_year['income_group']=='high'].boxplot(column='gni_pc')"
   ]
  },
  {
   "cell_type": "code",
   "execution_count": 88,
   "metadata": {},
   "outputs": [
    {
     "data": {
      "image/png": "[encoded data removed]",
      "text/plain": [
       "<Figure size 1200x600 with 4 Axes>"
      ]
     },
     "metadata": {},
     "output_type": "display_data"
    }
   ],
   "source": [
    "# what is misleading about the visualisation below?\n",
    "\n",
    "groups = ['high', 'upp_mid', 'low_mid', 'low']\n",
    "\n",
    "# Create a figure with subplots\n",
    "fig, axes = plt.subplots(1, len(groups), figsize=(12, 6))\n",
    "\n",
    "# Loop through each group and create a boxplot in the corresponding subplot\n",
    "for i, group in enumerate(groups):\n",
    "    df_highest_year.loc[df_highest_year['income_group'] == group].boxplot(column='gni_pc', ax=axes[i])\n",
    "    axes[i].set_title(group)\n",
    "\n",
    "# Adjust layout\n",
    "plt.tight_layout()\n",
    "plt.show()"
   ]
  },
  {
   "cell_type": "code",
   "execution_count": 89,
   "metadata": {},
   "outputs": [
    {
     "data": {
      "text/plain": [
       "<Axes: xlabel='gni_pc', ylabel='primary_out_school_pct'>"
      ]
     },
     "execution_count": 89,
     "metadata": {},
     "output_type": "execute_result"
    },
    {
     "data": {
      "image/png": "[encoded data removed]",
      "text/plain": [
       "<Figure size 640x480 with 1 Axes>"
      ]
     },
     "metadata": {},
     "output_type": "display_data"
    }
   ],
   "source": [
    "# pick a different combination of values to plot\n",
    "df_highest_year.plot.scatter(x='gni_pc', y='primary_out_school_pct')"
   ]
  },
  {
   "cell_type": "code",
   "execution_count": 90,
   "metadata": {},
   "outputs": [
    {
     "data": {
      "image/png": "[encoded data removed]",
      "text/plain": [
       "<Figure size 1200x600 with 4 Axes>"
      ]
     },
     "metadata": {},
     "output_type": "display_data"
    }
   ],
   "source": [
    "# Create a figure with subplots\n",
    "fig, axes = plt.subplots(1, len(groups), figsize=(12, 6))\n",
    "\n",
    "# Loop through each group and create a boxplot in the corresponding subplot\n",
    "for i, group in enumerate(groups):\n",
    "    df_highest_year.loc[df_highest_year['income_group'] == group].plot.scatter(x='gni_pc', y='primary_out_school_pct', ax=axes[i])\n",
    "    axes[i].set_title(group)\n",
    "\n",
    "# Adjust layout\n",
    "plt.tight_layout()\n",
    "plt.show()"
   ]
  },
  {
   "cell_type": "code",
   "execution_count": 91,
   "metadata": {},
   "outputs": [
    {
     "data": {
      "text/plain": [
       "array([[<Axes: title={'center': 'gni_pc'}>]], dtype=object)"
      ]
     },
     "execution_count": 91,
     "metadata": {},
     "output_type": "execute_result"
    },
    {
     "data": {
      "image/png": "[encoded data removed]",
      "text/plain": [
       "<Figure size 640x480 with 1 Axes>"
      ]
     },
     "metadata": {},
     "output_type": "display_data"
    }
   ],
   "source": [
    "# can you create this with seaborn instead?\n",
    "df_highest_year.hist(column=['gni_pc'], bins=20)"
   ]
  }
 ],
 "metadata": {
  "kernelspec": {
   "display_name": "brushup-2025",
   "language": "python",
   "name": "python3"
  },
  "language_info": {
   "codemirror_mode": {
    "name": "ipython",
    "version": 3
   },
   "file_extension": ".py",
   "mimetype": "text/x-python",
   "name": "python",
   "nbconvert_exporter": "python",
   "pygments_lexer": "ipython3",
   "version": "3.11.12"
  }
 },
 "nbformat": 4,
 "nbformat_minor": 2
}
