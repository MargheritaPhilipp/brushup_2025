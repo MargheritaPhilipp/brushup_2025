{
 "cells": [
  {
   "cell_type": "markdown",
   "metadata": {},
   "source": [
    "## Test"
   ]
  },
  {
   "cell_type": "markdown",
   "metadata": {},
   "source": [
    "### Q1 Show how you would import a couple of key python packages"
   ]
  },
  {
   "cell_type": "code",
   "execution_count": 2,
   "metadata": {},
   "outputs": [],
   "source": [
    "import pandas as pd\n",
    "from datetime import datetime\n",
    "from sklearn.datasets import load_iris"
   ]
  },
  {
   "cell_type": "code",
   "execution_count": 4,
   "metadata": {},
   "outputs": [],
   "source": [
    "iris = load_iris()\n",
    "df_iris = pd.DataFrame(iris.data)\n",
    "\n",
    "df_ages = pd.DataFrame({\n",
    "        'Name': ['Alex', 'Blake', 'Charlie', 'Dylan', 'Eli', 'Femi'],\n",
    "        'Age': [7,8,9, 8, 7, 6],\n",
    "        'Last Name': ['Apple', 'Baker', 'Chaplin', 'Dreams', 'Elephant', 'Baker'],\n",
    "        'Group': ['Ghosts', 'Pumpkins', 'Pumpkins', 'Pumpkins', 'Ghosts', 'Ghosts']\n",
    "    })"
   ]
  },
  {
   "cell_type": "markdown",
   "metadata": {},
   "source": [
    "### Q2 Show how to display the first 5 rows of a dataframe called my_df\n",
    "You can display more or fewer rows by specifying a number. Also check out the .tail() and .sample() methods."
   ]
  },
  {
   "cell_type": "code",
   "execution_count": null,
   "metadata": {},
   "outputs": [],
   "source": [
    "df_ages.head()"
   ]
  },
  {
   "cell_type": "markdown",
   "metadata": {},
   "source": [
    "### Q3 What kind of information does my_df.info() return?\n",
    "\n",
    "Compare this with the .describe() method."
   ]
  },
  {
   "cell_type": "code",
   "execution_count": null,
   "metadata": {},
   "outputs": [],
   "source": [
    "#Q3\n",
    "df_ages.info()"
   ]
  },
  {
   "cell_type": "markdown",
   "metadata": {},
   "source": [
    "### Q4 Show two different ways of how to retrieve the column called “age” from my_df\n",
    "\n",
    "Comment on cases where I can only use one of these options.\n",
    "\n",
    "The first option only works with column names that do not contain spaces or special characters. Try it out! What does the ```\\n``` do?"
   ]
  },
  {
   "cell_type": "code",
   "execution_count": null,
   "metadata": {},
   "outputs": [],
   "source": [
    "ages_1 = df_ages.Age\n",
    "ages_2 = df_ages['Age']\n",
    "ages_3 = df_ages.loc[:,'Age']\n",
    "\n",
    "print(ages_1, '\\n', ages_2, '\\n', ages_3)"
   ]
  },
  {
   "cell_type": "markdown",
   "metadata": {},
   "source": [
    "### Q5 Show how to return only the rows of the data frame where the age value is unequal to 7\n",
    "Try both options. What is the additional benefit of using .loc?"
   ]
  },
  {
   "cell_type": "code",
   "execution_count": null,
   "metadata": {},
   "outputs": [],
   "source": [
    "df_ages[df_ages['Age']!=7]\n",
    "df_ages.loc[df_ages['Age']!=7]\n",
    "df_ages.loc[df_ages['Age'] != 7, ['Name', 'Age']]"
   ]
  },
  {
   "cell_type": "markdown",
   "metadata": {},
   "source": [
    "Why does this not work: ```df_ages[\"age\" !=7]```"
   ]
  },
  {
   "cell_type": "markdown",
   "metadata": {},
   "source": [
    "### Q6 Matplotlib\n",
    "\n",
    "As what (acronym) do we usually import pyplot from matplotlib and what line of code ensures that a given plot is actually rendered?\n",
    "\n",
    "Is the .show() method necessary here?"
   ]
  },
  {
   "cell_type": "code",
   "execution_count": null,
   "metadata": {},
   "outputs": [],
   "source": [
    "from matplotlib import pyplot as plt\n",
    "\n",
    "plt.hist(df_ages['Age'])\n",
    "plt.show()"
   ]
  },
  {
   "cell_type": "markdown",
   "metadata": {},
   "source": [
    "### Q7 What are the values that will be printed when running this while loop\n",
    "How would you need to change the loop such that 10 does not get printed? Would fewer values be printed?"
   ]
  },
  {
   "cell_type": "code",
   "execution_count": null,
   "metadata": {},
   "outputs": [],
   "source": [
    "x = 10\n",
    "while x > 0:\n",
    "    print(x)\n",
    "    x = x - 3"
   ]
  },
  {
   "cell_type": "markdown",
   "metadata": {},
   "source": [
    "### Q8 Give one or more examples of iterables in Python\n",
    "i.e. objects that can be iterated over in a for-loop, and give a simple example of a for loop over any iterable (both the code and the expected output).\n",
    "\n",
    "Which part of this code is completely arbitray?"
   ]
  },
  {
   "cell_type": "code",
   "execution_count": null,
   "metadata": {},
   "outputs": [],
   "source": [
    "my_list = ['A', 'B', 'C']\n",
    "for i in my_list:\n",
    "    print(i)"
   ]
  },
  {
   "cell_type": "markdown",
   "metadata": {},
   "source": [
    "### Q9 Show how to return just the second element of this list:  my_list = [‘A’, ‘B’, ‘C’]\n",
    "\n",
    "Why does 1 return the 2nd element and not the first?"
   ]
  },
  {
   "cell_type": "code",
   "execution_count": null,
   "metadata": {},
   "outputs": [],
   "source": [
    "my_list[1]"
   ]
  },
  {
   "cell_type": "markdown",
   "metadata": {},
   "source": [
    "### Q10  Show how to build a dictionary in Python\n",
    "Label the two types of items that dictionaries contain.\n",
    "\n",
    "Which are the keys are which are the values?"
   ]
  },
  {
   "cell_type": "code",
   "execution_count": null,
   "metadata": {},
   "outputs": [],
   "source": [
    "my_dict = {\n",
    "    'start': [3,4,5],\n",
    "    'end': [10, 10, 10]\n",
    "}\n",
    "my_dict"
   ]
  },
  {
   "cell_type": "markdown",
   "metadata": {},
   "source": [
    "### Q11 Generate an additional column called “sum” that row-wise adds the values from the other two columns\n",
    "\n",
    "Which option do you like best?"
   ]
  },
  {
   "cell_type": "code",
   "execution_count": null,
   "metadata": {},
   "outputs": [],
   "source": [
    "df_sum = pd.DataFrame(my_dict)\n",
    "\n",
    "df_sum['sum'] = df_sum['end'] + df_sum['start']\n",
    "df_sum\n"
   ]
  },
  {
   "cell_type": "code",
   "execution_count": 17,
   "metadata": {},
   "outputs": [],
   "source": [
    "df_sum = df_sum.assign(sum_2=df_sum['end'] + df_sum['start'])\n",
    "\n",
    "df_sum.eval(\"sum_3 = end + start\", inplace=True)\n",
    "\n",
    "df_sum['sum_4'] = df_sum.apply(lambda row: row['end'] + row['start'], axis=1)\n",
    "\n",
    "def add_sum_column(df):\n",
    "    df['sum_5'] = df['end'] + df['start']\n",
    "    return df\n",
    "\n",
    "df_sum = df_sum.pipe(add_sum_column)"
   ]
  },
  {
   "cell_type": "code",
   "execution_count": null,
   "metadata": {},
   "outputs": [],
   "source": [
    "df_sum"
   ]
  },
  {
   "cell_type": "markdown",
   "metadata": {},
   "source": [
    "### Q12 Show how to use the index() method on a list of your choice and show the expected output\n",
    "\n",
    "Why might this be useful?"
   ]
  },
  {
   "cell_type": "code",
   "execution_count": null,
   "metadata": {},
   "outputs": [],
   "source": [
    "my_list.index('C')"
   ]
  },
  {
   "cell_type": "markdown",
   "metadata": {},
   "source": [
    "### Q13 Give an example of a method and an attribute of a pandas dataframe"
   ]
  },
  {
   "cell_type": "code",
   "execution_count": null,
   "metadata": {},
   "outputs": [],
   "source": [
    "print(df_ages.size)\n",
    "print(df_ages.columns)\n",
    "df_ages.T"
   ]
  },
  {
   "cell_type": "code",
   "execution_count": null,
   "metadata": {},
   "outputs": [],
   "source": [
    "df_new = df_ages.copy()\n",
    "\n",
    "df_new.groupby('Group').agg({\n",
    "    'Age': 'mean',\n",
    "    'Name': 'count',\n",
    "    'Last Name': 'nunique'\n",
    "}\n",
    ")"
   ]
  },
  {
   "cell_type": "markdown",
   "metadata": {},
   "source": [
    "### Q14 What would df.loc[1, 'Age'] return for this dataframe?"
   ]
  },
  {
   "cell_type": "code",
   "execution_count": null,
   "metadata": {},
   "outputs": [],
   "source": [
    "df_ages.loc[1,'Age']"
   ]
  }
 ],
 "metadata": {
  "kernelspec": {
   "display_name": "brushup-2025",
   "language": "python",
   "name": "python3"
  },
  "language_info": {
   "codemirror_mode": {
    "name": "ipython",
    "version": 3
   },
   "file_extension": ".py",
   "mimetype": "text/x-python",
   "name": "python",
   "nbconvert_exporter": "python",
   "pygments_lexer": "ipython3",
   "version": "3.11.12"
  }
 },
 "nbformat": 4,
 "nbformat_minor": 2
}
